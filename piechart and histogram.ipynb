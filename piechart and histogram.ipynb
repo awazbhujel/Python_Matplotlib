{
  "nbformat": 4,
  "nbformat_minor": 0,
  "metadata": {
    "colab": {
      "name": "pie chart and histogram.ipynb",
      "provenance": [],
      "collapsed_sections": [],
      "authorship_tag": "ABX9TyMRcNaA20mjuFcGEU3FF7VD"
    },
    "kernelspec": {
      "name": "python3",
      "display_name": "Python 3"
    },
    "language_info": {
      "name": "python"
    }
  },
  "cells": [
    {
      "cell_type": "code",
      "execution_count": 34,
      "metadata": {
        "id": "tc9CMWwUXYsb"
      },
      "outputs": [],
      "source": [
        "import pandas as pd\n",
        "import matplotlib.pyplot as plt\n",
        "%matplotlib inline"
      ]
    },
    {
      "cell_type": "markdown",
      "source": [
        "Draw pie chart to track down home expenses"
      ],
      "metadata": {
        "id": "g5EomOYAYyNT"
      }
    },
    {
      "cell_type": "code",
      "source": [
        "exp_vals = [1400,600,300,410,250]\n",
        "exp_labels = [\"Home Rent\",\"Food\",\"Phone/Internet Bill\",\"Car \",\"Other Utilities\"]"
      ],
      "metadata": {
        "id": "2fgSmq7aYF24"
      },
      "execution_count": 35,
      "outputs": []
    },
    {
      "cell_type": "code",
      "source": [
        "plt.pie(exp_vals,labels=exp_labels,radius=1.5,autopct=\"%.0f%%\",shadow=True,explode=[0.1,0,0,0,0.2],startangle=180) #radius=2 makes the double size of default #autopct display percentage\n",
        "plt.axis(\"equal\") #equal makes piechart more equal\n",
        "plt.savefig(\"piechar.png\",bbox_inches=\"tight\",pad_inches=2)\n",
        "plt.show()"
      ],
      "metadata": {
        "colab": {
          "base_uri": "https://localhost:8080/",
          "height": 254
        },
        "id": "locD0Z32YF5P",
        "outputId": "6c5a8c5e-c0e8-4585-c961-ae52e51dfaec"
      },
      "execution_count": 36,
      "outputs": [
        {
          "output_type": "display_data",
          "data": {
            "text/plain": [
              "<Figure size 432x288 with 1 Axes>"
            ],
            "image/png": "[encoded data removed]"
          },
          "metadata": {}
        }
      ]
    },
    {
      "cell_type": "code",
      "source": [
        "plt.savefig(\"piechart.png\",bbox_inches=\"tight\")"
      ],
      "metadata": {
        "id": "YOnt8waxYF7s",
        "colab": {
          "base_uri": "https://localhost:8080/",
          "height": 34
        },
        "outputId": "4a6a9c8b-60fc-481e-86fb-db9567758001"
      },
      "execution_count": 38,
      "outputs": [
        {
          "output_type": "display_data",
          "data": {
            "text/plain": [
              "<Figure size 432x288 with 0 Axes>"
            ]
          },
          "metadata": {}
        }
      ]
    },
    {
      "cell_type": "markdown",
      "source": [
        "**Histogram**"
      ],
      "metadata": {
        "id": "Rr4NdIQKMZPW"
      }
    },
    {
      "cell_type": "markdown",
      "source": [
        "***we have a sample data of blood sugar level of different patients, we will try to plot number of patients by blood range and try to figure out how many patients are normal, pre-diabetic and diabetic***"
      ],
      "metadata": {
        "id": "iRjMBILkMckD"
      }
    },
    {
      "cell_type": "code",
      "source": [
        "blood_sugar = [113, 85, 90, 150, 149, 88, 93, 115, 135, 80, 77, 82, 129]\n",
        "plt.hist(blood_sugar,rwidth=0.8) #by default no.of bins is set to 10\n",
        "plt.show()"
      ],
      "metadata": {
        "id": "dKf6e7tEYF_v",
        "colab": {
          "base_uri": "https://localhost:8080/",
          "height": 265
        },
        "outputId": "6cce65ce-f33e-4ea0-8c8b-2a1bcbabe19c"
      },
      "execution_count": 39,
      "outputs": [
        {
          "output_type": "display_data",
          "data": {
            "text/plain": [
              "<Figure size 432x288 with 1 Axes>"
            ],
            "image/png": "[encoded data removed]"
          },
          "metadata": {
            "needs_background": "light"
          }
        }
      ]
    },
    {
      "cell_type": "markdown",
      "source": [
        "**Bins** **parameter** "
      ],
      "metadata": {
        "id": "yT79MaNWNgca"
      }
    },
    {
      "cell_type": "code",
      "source": [
        "plt.hist(blood_sugar,rwidth=0.5,bins=4)"
      ],
      "metadata": {
        "colab": {
          "base_uri": "https://localhost:8080/",
          "height": 317
        },
        "id": "sprirFKrNjLP",
        "outputId": "4587e473-91eb-441a-b9f1-397897941d1c"
      },
      "execution_count": 40,
      "outputs": [
        {
          "output_type": "execute_result",
          "data": {
            "text/plain": [
              "(array([7., 1., 2., 3.]),\n",
              " array([ 77.  ,  95.25, 113.5 , 131.75, 150.  ]),\n",
              " <a list of 4 Patch objects>)"
            ]
          },
          "metadata": {},
          "execution_count": 40
        },
        {
          "output_type": "display_data",
          "data": {
            "text/plain": [
              "<Figure size 432x288 with 1 Axes>"
            ],
            "image/png": "[encoded data removed]"
          },
          "metadata": {
            "needs_background": "light"
          }
        }
      ]
    },
    {
      "cell_type": "markdown",
      "source": [
        "Histogram showing normal, pre-diabetic and diabetic patients distribution\n",
        "\n",
        "#80-100: Normal\n",
        "#100-125: Pre-diabetic\n",
        "#125-150: Diabetic "
      ],
      "metadata": {
        "id": "Fl1Td7n1MvaW"
      }
    },
    {
      "cell_type": "code",
      "source": [
        "plt.xlabel(\"No.of patient\")\n",
        "plt.ylabel(\"Sugar level\")\n",
        "plt.title(\"Blood sugar chart\")\n",
        "plt.hist(blood_sugar,bins=[80,100,125,150],rwidth=0.95,color=\"g\")"
      ],
      "metadata": {
        "id": "p7NE4gNzYGPn",
        "colab": {
          "base_uri": "https://localhost:8080/",
          "height": 312
        },
        "outputId": "b9eebbfd-9857-42cf-e428-cb96b7ff9b35"
      },
      "execution_count": 41,
      "outputs": [
        {
          "output_type": "execute_result",
          "data": {
            "text/plain": [
              "(array([6., 2., 4.]), array([ 80, 100, 125, 150]), <a list of 3 Patch objects>)"
            ]
          },
          "metadata": {},
          "execution_count": 41
        },
        {
          "output_type": "display_data",
          "data": {
            "text/plain": [
              "<Figure size 432x288 with 1 Axes>"
            ],
            "image/png": "[encoded data removed]"
          },
          "metadata": {
            "needs_background": "light"
          }
        }
      ]
    },
    {
      "cell_type": "markdown",
      "source": [
        "Multiple data Sample in histogram"
      ],
      "metadata": {
        "id": "zeMj7LaYO5NZ"
      }
    },
    {
      "cell_type": "code",
      "source": [
        "blood_sugar_men = [113, 85, 90, 150, 149, 88, 93, 115, 135, 80, 77, 82, 129]\n",
        "blood_sugar_women = [67, 98, 89, 120, 133, 150, 84, 69, 89, 79, 120, 112, 100]\n",
        "plt.ylabel(\"no.of patient\")\n",
        "plt.xlabel(\"blood sugar level\")\n",
        "plt.title(\"Blood sugar chart\")\n",
        "plt.hist([blood_sugar_men,blood_sugar_women],rwidth=0.95,bins=[80,100,125,150],color=[\"red\",\"blue\"],label=[\"men\",\"women\"])\n",
        "plt.legend()\n",
        "plt.savefig(\"histogram.png\",bbox_inches=\"tight\",pad_inches=2)\n",
        "plt.show()"
      ],
      "metadata": {
        "id": "UEMjGwrUYGeF",
        "colab": {
          "base_uri": "https://localhost:8080/",
          "height": 295
        },
        "outputId": "b8167bac-5f56-46ba-c02d-37c97bca688c"
      },
      "execution_count": 42,
      "outputs": [
        {
          "output_type": "display_data",
          "data": {
            "text/plain": [
              "<Figure size 432x288 with 1 Axes>"
            ],
            "image/png": "[encoded data removed]"
          },
          "metadata": {
            "needs_background": "light"
          }
        }
      ]
    },
    {
      "cell_type": "markdown",
      "source": [
        "Histtype==Step"
      ],
      "metadata": {
        "id": "WHvuS74hSpUg"
      }
    },
    {
      "cell_type": "code",
      "source": [
        "plt.xlabel(\"Sugar Level\")\n",
        "plt.ylabel(\"Number Of Patients\")\n",
        "plt.title(\"Blood Sugar Chart\")\n",
        "plt.hist(blood_sugar,bins=[80,100,125,150],rwidth=0.95,histtype=\"step\")\n",
        "plt.show()"
      ],
      "metadata": {
        "colab": {
          "base_uri": "https://localhost:8080/",
          "height": 295
        },
        "id": "2VbpRxgVOjdf",
        "outputId": "7254c7df-fc86-4f0f-be59-93b706e67d85"
      },
      "execution_count": 43,
      "outputs": [
        {
          "output_type": "display_data",
          "data": {
            "text/plain": [
              "<Figure size 432x288 with 1 Axes>"
            ],
            "image/png": "[encoded data removed]"
          },
          "metadata": {
            "needs_background": "light"
          }
        }
      ]
    },
    {
      "cell_type": "markdown",
      "source": [
        "Horizontal Orientation"
      ],
      "metadata": {
        "id": "1pVPIE_STZXD"
      }
    },
    {
      "cell_type": "code",
      "source": [
        "plt.xlabel(\"Number Of Patients\")\n",
        "plt.ylabel(\"Sugar Level\")\n",
        "plt.title(\"Blood Sugar Chart\")\n",
        "plt.hist(blood_sugar,bins=[80,100,125,150],rwidth=0.95,orientation=\"horizontal\")\n",
        "plt.show()"
      ],
      "metadata": {
        "colab": {
          "base_uri": "https://localhost:8080/",
          "height": 295
        },
        "id": "Z4j2efOxTZFe",
        "outputId": "5c07c61e-a646-45f2-c19a-4665b817b7d6"
      },
      "execution_count": 45,
      "outputs": [
        {
          "output_type": "display_data",
          "data": {
            "text/plain": [
              "<Figure size 432x288 with 1 Axes>"
            ],
            "image/png": "[encoded data removed]"
          },
          "metadata": {
            "needs_background": "light"
          }
        }
      ]
    }
  ]
}