{
  "nbformat": 4,
  "nbformat_minor": 0,
  "metadata": {
    "colab": {
      "provenance": [],
      "collapsed_sections": [],
      "authorship_tag": "ABX9TyMVChBO0dIAwVFPnv9Obu0W"
    },
    "kernelspec": {
      "name": "python3",
      "display_name": "Python 3"
    },
    "language_info": {
      "name": "python"
    }
  },
  "cells": [
    {
      "cell_type": "code",
      "execution_count": 121,
      "metadata": {
        "id": "SJRgUmAIw65R"
      },
      "outputs": [],
      "source": [
        "import pandas as pd,numpy as np,seaborn as sns\n",
        "import matplotlib.pyplot as plt\n",
        "%matplotlib inline"
      ]
    },
    {
      "cell_type": "markdown",
      "source": [
        "**Univariate analysis**\n",
        "1. Visualiztion of single variable.\n",
        "2. by looking at one variable at a time,we can build an intution for how each variable is distributed before moving on to more complex interactions between variables.\n",
        "3. The main plot types of univariate visualizations:\n",
        "\n",
        "Barchart\n",
        "\n",
        "Histograms"
      ],
      "metadata": {
        "id": "FfOsRW9gzzjr"
      }
    },
    {
      "cell_type": "markdown",
      "source": [
        "**bar charts**\n",
        "\n",
        "The primary visualization for choice for representing the distribution of a qualitative variable.\n",
        "\n",
        "In a bar chart, each level of the categorical variable is depicted by a bar, whose height indicate the frequency of data points that take on that level.\n",
        "\n",
        "To avoid information distortion, the baseline for the plot should start at zero. Otherwise, height differences between bars could look bigger than they actually are.\n",
        "\n",
        "**sns.countplot function**\n",
        "\n",
        "parameters\n",
        "1. x, y, hue : names of variables in data or vector data\n",
        "2. data : DataFrame, array, or list of arrays\n",
        "3. order, hue_order : lists of strings\n",
        "        Order to plot the categorical levels in\n",
        "4. orient : “v” | “h”\n",
        "        Orientation of the plot (vertical or horizontal)\n",
        "5. color\n",
        "6. palette : palette name, list, or dict\n",
        "        Colors to use for the different levels of the hue variable\n",
        "7. saturation\n",
        "8. ax : matplotlib Axes\n",
        "Axes object to draw the plot onto"
      ],
      "metadata": {
        "id": "lYPbvTQ-00-3"
      }
    },
    {
      "cell_type": "code",
      "source": [
        "pokemon = pd.read_csv(\"/content/pokemon_data.csv\",encoding=\"latin-1\")"
      ],
      "metadata": {
        "id": "EotwIU1fzliJ"
      },
      "execution_count": 22,
      "outputs": []
    },
    {
      "cell_type": "code",
      "source": [
        "pokemon.head()"
      ],
      "metadata": {
        "colab": {
          "base_uri": "https://localhost:8080/",
          "height": 285
        },
        "id": "U_zjCQ87zlkr",
        "outputId": "9f47451d-e238-4ec8-a26e-084abc2ca702"
      },
      "execution_count": 23,
      "outputs": [
        {
          "output_type": "execute_result",
          "data": {
            "text/plain": [
              "   Sn no                   Name             Upper Name             lower name  \\\n",
              "0      1              Bulbasaur              BULBASAUR              bulbasaur   \n",
              "1      2                Ivysaur                IVYSAUR                ivysaur   \n",
              "2      3               Venusaur               VENUSAUR               venusaur   \n",
              "3      3  VenusaurMega Venusaur  VENUSAURMEGA VENUSAUR  venusaurmega venusaur   \n",
              "4      4             Charmander             CHARMANDER             charmander   \n",
              "\n",
              "  Type 1  Type 2  HP  Attack  Defense  Sp. Atk  Sp. Def  Speed  Generation  \\\n",
              "0  Grass  Poison  45      49       49       65       65     45           1   \n",
              "1  Grass  Poison  60      62       63       80       80     60           1   \n",
              "2  Grass  Poison  80      82       83      100      100     80           1   \n",
              "3  Grass  Poison  80     100      123      122      120     80           1   \n",
              "4   Fire     NaN  39      52       43       60       50     65           1   \n",
              "\n",
              "   Legendary  \n",
              "0      False  \n",
              "1      False  \n",
              "2      False  \n",
              "3      False  \n",
              "4      False  "
            ],
            "text/html": [
              "\n",
              "  <div id=\"df-8d7d3555-3f79-4139-8de6-f8fc93b142ea\">\n",
              "    <div class=\"colab-df-container\">\n",
              "      <div>\n",
              "<style scoped>\n",
              "    .dataframe tbody tr th:only-of-type {\n",
              "        vertical-align: middle;\n",
              "    }\n",
              "\n",
              "    .dataframe tbody tr th {\n",
              "        vertical-align: top;\n",
              "    }\n",
              "\n",
              "    .dataframe thead th {\n",
              "        text-align: right;\n",
              "    }\n",
              "</style>\n",
              "<table border=\"1\" class=\"dataframe\">\n",
              "  <thead>\n",
              "    <tr style=\"text-align: right;\">\n",
              "      <th></th>\n",
              "      <th>Sn no</th>\n",
              "      <th>Name</th>\n",
              "      <th>Upper Name</th>\n",
              "      <th>lower name</th>\n",
              "      <th>Type 1</th>\n",
              "      <th>Type 2</th>\n",
              "      <th>HP</th>\n",
              "      <th>Attack</th>\n",
              "      <th>Defense</th>\n",
              "      <th>Sp. Atk</th>\n",
              "      <th>Sp. Def</th>\n",
              "      <th>Speed</th>\n",
              "      <th>Generation</th>\n",
              "      <th>Legendary</th>\n",
              "    </tr>\n",
              "  </thead>\n",
              "  <tbody>\n",
              "    <tr>\n",
              "      <th>0</th>\n",
              "      <td>1</td>\n",
              "      <td>Bulbasaur</td>\n",
              "      <td>BULBASAUR</td>\n",
              "      <td>bulbasaur</td>\n",
              "      <td>Grass</td>\n",
              "      <td>Poison</td>\n",
              "      <td>45</td>\n",
              "      <td>49</td>\n",
              "      <td>49</td>\n",
              "      <td>65</td>\n",
              "      <td>65</td>\n",
              "      <td>45</td>\n",
              "      <td>1</td>\n",
              "      <td>False</td>\n",
              "    </tr>\n",
              "    <tr>\n",
              "      <th>1</th>\n",
              "      <td>2</td>\n",
              "      <td>Ivysaur</td>\n",
              "      <td>IVYSAUR</td>\n",
              "      <td>ivysaur</td>\n",
              "      <td>Grass</td>\n",
              "      <td>Poison</td>\n",
              "      <td>60</td>\n",
              "      <td>62</td>\n",
              "      <td>63</td>\n",
              "      <td>80</td>\n",
              "      <td>80</td>\n",
              "      <td>60</td>\n",
              "      <td>1</td>\n",
              "      <td>False</td>\n",
              "    </tr>\n",
              "    <tr>\n",
              "      <th>2</th>\n",
              "      <td>3</td>\n",
              "      <td>Venusaur</td>\n",
              "      <td>VENUSAUR</td>\n",
              "      <td>venusaur</td>\n",
              "      <td>Grass</td>\n",
              "      <td>Poison</td>\n",
              "      <td>80</td>\n",
              "      <td>82</td>\n",
              "      <td>83</td>\n",
              "      <td>100</td>\n",
              "      <td>100</td>\n",
              "      <td>80</td>\n",
              "      <td>1</td>\n",
              "      <td>False</td>\n",
              "    </tr>\n",
              "    <tr>\n",
              "      <th>3</th>\n",
              "      <td>3</td>\n",
              "      <td>VenusaurMega Venusaur</td>\n",
              "      <td>VENUSAURMEGA VENUSAUR</td>\n",
              "      <td>venusaurmega venusaur</td>\n",
              "      <td>Grass</td>\n",
              "      <td>Poison</td>\n",
              "      <td>80</td>\n",
              "      <td>100</td>\n",
              "      <td>123</td>\n",
              "      <td>122</td>\n",
              "      <td>120</td>\n",
              "      <td>80</td>\n",
              "      <td>1</td>\n",
              "      <td>False</td>\n",
              "    </tr>\n",
              "    <tr>\n",
              "      <th>4</th>\n",
              "      <td>4</td>\n",
              "      <td>Charmander</td>\n",
              "      <td>CHARMANDER</td>\n",
              "      <td>charmander</td>\n",
              "      <td>Fire</td>\n",
              "      <td>NaN</td>\n",
              "      <td>39</td>\n",
              "      <td>52</td>\n",
              "      <td>43</td>\n",
              "      <td>60</td>\n",
              "      <td>50</td>\n",
              "      <td>65</td>\n",
              "      <td>1</td>\n",
              "      <td>False</td>\n",
              "    </tr>\n",
              "  </tbody>\n",
              "</table>\n",
              "</div>\n",
              "      <button class=\"colab-df-convert\" onclick=\"convertToInteractive('df-8d7d3555-3f79-4139-8de6-f8fc93b142ea')\"\n",
              "              title=\"Convert this dataframe to an interactive table.\"\n",
              "              style=\"display:none;\">\n",
              "        \n",
              "  <svg xmlns=\"http://www.w3.org/2000/svg\" height=\"24px\"viewBox=\"0 0 24 24\"\n",
              "       width=\"24px\">\n",
              "    <path d=\"M0 0h24v24H0V0z\" fill=\"none\"/>\n",
              "    <path d=\"M18.56 5.44l.94 2.06.94-2.06 2.06-.94-2.06-.94-.94-2.06-.94 2.06-2.06.94zm-11 1L8.5 8.5l.94-2.06 2.06-.94-2.06-.94L8.5 2.5l-.94 2.06-2.06.94zm10 10l.94 2.06.94-2.06 2.06-.94-2.06-.94-.94-2.06-.94 2.06-2.06.94z\"/><path d=\"M17.41 7.96l-1.37-1.37c-.4-.4-.92-.59-1.43-.59-.52 0-1.04.2-1.43.59L10.3 9.45l-7.72 7.72c-.78.78-.78 2.05 0 2.83L4 21.41c.39.39.9.59 1.41.59.51 0 1.02-.2 1.41-.59l7.78-7.78 2.81-2.81c.8-.78.8-2.07 0-2.86zM5.41 20L4 18.59l7.72-7.72 1.47 1.35L5.41 20z\"/>\n",
              "  </svg>\n",
              "      </button>\n",
              "      \n",
              "  <style>\n",
              "    .colab-df-container {\n",
              "      display:flex;\n",
              "      flex-wrap:wrap;\n",
              "      gap: 12px;\n",
              "    }\n",
              "\n",
              "    .colab-df-convert {\n",
              "      background-color: #E8F0FE;\n",
              "      border: none;\n",
              "      border-radius: 50%;\n",
              "      cursor: pointer;\n",
              "      display: none;\n",
              "      fill: #1967D2;\n",
              "      height: 32px;\n",
              "      padding: 0 0 0 0;\n",
              "      width: 32px;\n",
              "    }\n",
              "\n",
              "    .colab-df-convert:hover {\n",
              "      background-color: #E2EBFA;\n",
              "      box-shadow: 0px 1px 2px rgba(60, 64, 67, 0.3), 0px 1px 3px 1px rgba(60, 64, 67, 0.15);\n",
              "      fill: #174EA6;\n",
              "    }\n",
              "\n",
              "    [theme=dark] .colab-df-convert {\n",
              "      background-color: #3B4455;\n",
              "      fill: #D2E3FC;\n",
              "    }\n",
              "\n",
              "    [theme=dark] .colab-df-convert:hover {\n",
              "      background-color: #434B5C;\n",
              "      box-shadow: 0px 1px 3px 1px rgba(0, 0, 0, 0.15);\n",
              "      filter: drop-shadow(0px 1px 2px rgba(0, 0, 0, 0.3));\n",
              "      fill: #FFFFFF;\n",
              "    }\n",
              "  </style>\n",
              "\n",
              "      <script>\n",
              "        const buttonEl =\n",
              "          document.querySelector('#df-8d7d3555-3f79-4139-8de6-f8fc93b142ea button.colab-df-convert');\n",
              "        buttonEl.style.display =\n",
              "          google.colab.kernel.accessAllowed ? 'block' : 'none';\n",
              "\n",
              "        async function convertToInteractive(key) {\n",
              "          const element = document.querySelector('#df-8d7d3555-3f79-4139-8de6-f8fc93b142ea');\n",
              "          const dataTable =\n",
              "            await google.colab.kernel.invokeFunction('convertToInteractive',\n",
              "                                                     [key], {});\n",
              "          if (!dataTable) return;\n",
              "\n",
              "          const docLinkHtml = 'Like what you see? Visit the ' +\n",
              "            '<a target=\"_blank\" href=https://colab.research.google.com/notebooks/data_table.ipynb>data table notebook</a>'\n",
              "            + ' to learn more about interactive tables.';\n",
              "          element.innerHTML = '';\n",
              "          dataTable['output_type'] = 'display_data';\n",
              "          await google.colab.output.renderOutput(dataTable, element);\n",
              "          const docLink = document.createElement('div');\n",
              "          docLink.innerHTML = docLinkHtml;\n",
              "          element.appendChild(docLink);\n",
              "        }\n",
              "      </script>\n",
              "    </div>\n",
              "  </div>\n",
              "  "
            ]
          },
          "metadata": {},
          "execution_count": 23
        }
      ]
    },
    {
      "cell_type": "code",
      "source": [
        "pokemon.info()"
      ],
      "metadata": {
        "colab": {
          "base_uri": "https://localhost:8080/"
        },
        "id": "RxxalDbozlmz",
        "outputId": "41b96472-70ee-4c68-b08b-8cd9bd713843"
      },
      "execution_count": 24,
      "outputs": [
        {
          "output_type": "stream",
          "name": "stdout",
          "text": [
            "<class 'pandas.core.frame.DataFrame'>\n",
            "RangeIndex: 799 entries, 0 to 798\n",
            "Data columns (total 14 columns):\n",
            " #   Column      Non-Null Count  Dtype \n",
            "---  ------      --------------  ----- \n",
            " 0   Sn no       799 non-null    int64 \n",
            " 1   Name        799 non-null    object\n",
            " 2   Upper Name  799 non-null    object\n",
            " 3   lower name  799 non-null    object\n",
            " 4   Type 1      799 non-null    object\n",
            " 5   Type 2      413 non-null    object\n",
            " 6   HP          799 non-null    int64 \n",
            " 7   Attack      799 non-null    int64 \n",
            " 8   Defense     799 non-null    int64 \n",
            " 9   Sp. Atk     799 non-null    int64 \n",
            " 10  Sp. Def     799 non-null    int64 \n",
            " 11  Speed       799 non-null    int64 \n",
            " 12  Generation  799 non-null    int64 \n",
            " 13  Legendary   799 non-null    bool  \n",
            "dtypes: bool(1), int64(8), object(5)\n",
            "memory usage: 82.1+ KB\n"
          ]
        }
      ]
    },
    {
      "cell_type": "code",
      "source": [
        "pokemon[\"Type 2\"].fillna(pokemon[\"Type 2\"].mode()[0],inplace=True)"
      ],
      "metadata": {
        "id": "ZImlhhFjzlpb"
      },
      "execution_count": 25,
      "outputs": []
    },
    {
      "cell_type": "code",
      "source": [
        "pokemon.isnull().sum()"
      ],
      "metadata": {
        "colab": {
          "base_uri": "https://localhost:8080/"
        },
        "id": "QGQ4nWPUzlrl",
        "outputId": "1293fc1d-ffc2-4183-cde0-42eb7fe24b68"
      },
      "execution_count": 26,
      "outputs": [
        {
          "output_type": "execute_result",
          "data": {
            "text/plain": [
              "Sn no         0\n",
              "Name          0\n",
              "Upper Name    0\n",
              "lower name    0\n",
              "Type 1        0\n",
              "Type 2        0\n",
              "HP            0\n",
              "Attack        0\n",
              "Defense       0\n",
              "Sp. Atk       0\n",
              "Sp. Def       0\n",
              "Speed         0\n",
              "Generation    0\n",
              "Legendary     0\n",
              "dtype: int64"
            ]
          },
          "metadata": {},
          "execution_count": 26
        }
      ]
    },
    {
      "cell_type": "code",
      "source": [
        "pokemon.shape"
      ],
      "metadata": {
        "colab": {
          "base_uri": "https://localhost:8080/"
        },
        "id": "_a0qnJJ32fHm",
        "outputId": "c88e0c75-eb58-43af-e66b-5f7db007de44"
      },
      "execution_count": 27,
      "outputs": [
        {
          "output_type": "execute_result",
          "data": {
            "text/plain": [
              "(799, 14)"
            ]
          },
          "metadata": {},
          "execution_count": 27
        }
      ]
    },
    {
      "cell_type": "code",
      "source": [
        "pokemon[\"Generation\"].value_counts(ascending=False)"
      ],
      "metadata": {
        "colab": {
          "base_uri": "https://localhost:8080/"
        },
        "id": "oPdzTuOj2fKF",
        "outputId": "4e7d9668-2d95-4cc8-9bff-045acc88f06a"
      },
      "execution_count": 28,
      "outputs": [
        {
          "output_type": "execute_result",
          "data": {
            "text/plain": [
              "1    166\n",
              "5    165\n",
              "3    160\n",
              "4    121\n",
              "2    106\n",
              "6     81\n",
              "Name: Generation, dtype: int64"
            ]
          },
          "metadata": {},
          "execution_count": 28
        }
      ]
    },
    {
      "cell_type": "code",
      "source": [
        "sns.countplot(data=pokemon,x=\"Generation\");\n",
        "#The semicolon \";\" suppresses the printing of the plotting object information"
      ],
      "metadata": {
        "colab": {
          "base_uri": "https://localhost:8080/",
          "height": 279
        },
        "id": "83GTs5MF2fMr",
        "outputId": "df2e9af3-a6c9-4928-a461-4277a074af07"
      },
      "execution_count": 29,
      "outputs": [
        {
          "output_type": "display_data",
          "data": {
            "text/plain": [
              "<Figure size 432x288 with 1 Axes>"
            ],
            "image/png": "[encoded data removed]"
          },
          "metadata": {
            "needs_background": "light"
          }
        }
      ]
    },
    {
      "cell_type": "markdown",
      "source": [
        "By default, each level of the categorical variable is given a different color."
      ],
      "metadata": {
        "id": "hSKTb82q6VhN"
      }
    },
    {
      "cell_type": "code",
      "source": [
        "#This function returns a list of RGB tuples (3-tuple) corresponding to the color palette set in the function's arguments\n",
        "#Each tuple consists of three digits specifying the Red, Green, and Blue channel values to specify a color\n",
        "sns.color_palette()"
      ],
      "metadata": {
        "colab": {
          "base_uri": "https://localhost:8080/",
          "height": 77
        },
        "id": "zyq1HR2E2fPL",
        "outputId": "9cfe3b82-73d7-4c84-eb5e-c228d0cf2b3e"
      },
      "execution_count": 30,
      "outputs": [
        {
          "output_type": "execute_result",
          "data": {
            "text/plain": [
              "[(0.12156862745098039, 0.4666666666666667, 0.7058823529411765),\n",
              " (1.0, 0.4980392156862745, 0.054901960784313725),\n",
              " (0.17254901960784313, 0.6274509803921569, 0.17254901960784313),\n",
              " (0.8392156862745098, 0.15294117647058825, 0.1568627450980392),\n",
              " (0.5803921568627451, 0.403921568627451, 0.7411764705882353),\n",
              " (0.5490196078431373, 0.33725490196078434, 0.29411764705882354),\n",
              " (0.8901960784313725, 0.4666666666666667, 0.7607843137254902),\n",
              " (0.4980392156862745, 0.4980392156862745, 0.4980392156862745),\n",
              " (0.7372549019607844, 0.7411764705882353, 0.13333333333333333),\n",
              " (0.09019607843137255, 0.7450980392156863, 0.8117647058823529)]"
            ],
            "text/html": [
              "<svg  width=\"550\" height=\"55\"><rect x=\"0\" y=\"0\" width=\"55\" height=\"55\" style=\"fill:#1f77b4;stroke-width:2;stroke:rgb(255,255,255)\"/><rect x=\"55\" y=\"0\" width=\"55\" height=\"55\" style=\"fill:#ff7f0e;stroke-width:2;stroke:rgb(255,255,255)\"/><rect x=\"110\" y=\"0\" width=\"55\" height=\"55\" style=\"fill:#2ca02c;stroke-width:2;stroke:rgb(255,255,255)\"/><rect x=\"165\" y=\"0\" width=\"55\" height=\"55\" style=\"fill:#d62728;stroke-width:2;stroke:rgb(255,255,255)\"/><rect x=\"220\" y=\"0\" width=\"55\" height=\"55\" style=\"fill:#9467bd;stroke-width:2;stroke:rgb(255,255,255)\"/><rect x=\"275\" y=\"0\" width=\"55\" height=\"55\" style=\"fill:#8c564b;stroke-width:2;stroke:rgb(255,255,255)\"/><rect x=\"330\" y=\"0\" width=\"55\" height=\"55\" style=\"fill:#e377c2;stroke-width:2;stroke:rgb(255,255,255)\"/><rect x=\"385\" y=\"0\" width=\"55\" height=\"55\" style=\"fill:#7f7f7f;stroke-width:2;stroke:rgb(255,255,255)\"/><rect x=\"440\" y=\"0\" width=\"55\" height=\"55\" style=\"fill:#bcbd22;stroke-width:2;stroke:rgb(255,255,255)\"/><rect x=\"495\" y=\"0\" width=\"55\" height=\"55\" style=\"fill:#17becf;stroke-width:2;stroke:rgb(255,255,255)\"/></svg>"
            ]
          },
          "metadata": {},
          "execution_count": 30
        }
      ]
    },
    {
      "cell_type": "code",
      "source": [
        "print(sns.color_palette())"
      ],
      "metadata": {
        "colab": {
          "base_uri": "https://localhost:8080/"
        },
        "id": "3iizJM6Z2fSy",
        "outputId": "8cd70215-ea55-4d9c-b9e4-cf52ab63807b"
      },
      "execution_count": 31,
      "outputs": [
        {
          "output_type": "stream",
          "name": "stdout",
          "text": [
            "[(0.12156862745098039, 0.4666666666666667, 0.7058823529411765), (1.0, 0.4980392156862745, 0.054901960784313725), (0.17254901960784313, 0.6274509803921569, 0.17254901960784313), (0.8392156862745098, 0.15294117647058825, 0.1568627450980392), (0.5803921568627451, 0.403921568627451, 0.7411764705882353), (0.5490196078431373, 0.33725490196078434, 0.29411764705882354), (0.8901960784313725, 0.4666666666666667, 0.7607843137254902), (0.4980392156862745, 0.4980392156862745, 0.4980392156862745), (0.7372549019607844, 0.7411764705882353, 0.13333333333333333), (0.09019607843137255, 0.7450980392156863, 0.8117647058823529)]\n"
          ]
        }
      ]
    },
    {
      "cell_type": "code",
      "source": [
        "#Changing the color of the bars using the color parameter\n",
        "plt.figure(figsize=(17,9))\n",
        "plt.subplot(131)\n",
        "base_color = sns.color_palette()[0]\n",
        "sns.countplot(data=pokemon,x=\"Generation\");\n",
        "plt.subplot(132)\n",
        "sns.countplot(data=pokemon,x=\"Generation\",color=base_color);"
      ],
      "metadata": {
        "colab": {
          "base_uri": "https://localhost:8080/",
          "height": 551
        },
        "id": "a23YwYjV2fWC",
        "outputId": "8210b826-1b8a-4ce2-f58a-8eafec187bee"
      },
      "execution_count": 32,
      "outputs": [
        {
          "output_type": "display_data",
          "data": {
            "text/plain": [
              "<Figure size 1224x648 with 2 Axes>"
            ],
            "image/png": "[encoded data removed]"
          },
          "metadata": {
            "needs_background": "light"
          }
        }
      ]
    },
    {
      "cell_type": "markdown",
      "source": [
        "For nominal data, you might want to arrange the bars in order of frequency with the most common on the left."
      ],
      "metadata": {
        "id": "loeEo84q78pa"
      }
    },
    {
      "cell_type": "code",
      "source": [
        "#The \"order\" parameter takes as an argument a list with the order in which bars should be plotted\n",
        "gen_order=pokemon[\"Generation\"].value_counts(ascending=False).index\n",
        "sns.countplot(data=pokemon,x=\"Generation\",color=base_color,order=gen_order)"
      ],
      "metadata": {
        "colab": {
          "base_uri": "https://localhost:8080/",
          "height": 296
        },
        "id": "FRZYH-1L2fYP",
        "outputId": "d680ff84-f8a0-42e7-bfb4-fc03c661417f"
      },
      "execution_count": 33,
      "outputs": [
        {
          "output_type": "execute_result",
          "data": {
            "text/plain": [
              "<matplotlib.axes._subplots.AxesSubplot at 0x7f6c7f6c6350>"
            ]
          },
          "metadata": {},
          "execution_count": 33
        },
        {
          "output_type": "display_data",
          "data": {
            "text/plain": [
              "<Figure size 432x288 with 1 Axes>"
            ],
            "image/png": "[encoded data removed]"
          },
          "metadata": {
            "needs_background": "light"
          }
        }
      ]
    },
    {
      "cell_type": "code",
      "source": [
        "pokemon.nunique()"
      ],
      "metadata": {
        "colab": {
          "base_uri": "https://localhost:8080/"
        },
        "id": "c1VGIYxn879m",
        "outputId": "87d016bf-a4c4-4b48-cdd7-9f5a72ed41ec"
      },
      "execution_count": 34,
      "outputs": [
        {
          "output_type": "execute_result",
          "data": {
            "text/plain": [
              "Sn no         720\n",
              "Name          799\n",
              "Upper Name    799\n",
              "lower name    799\n",
              "Type 1         18\n",
              "Type 2         18\n",
              "HP             94\n",
              "Attack        111\n",
              "Defense       102\n",
              "Sp. Atk       105\n",
              "Sp. Def        92\n",
              "Speed         108\n",
              "Generation      6\n",
              "Legendary       2\n",
              "dtype: int64"
            ]
          },
          "metadata": {},
          "execution_count": 34
        }
      ]
    },
    {
      "cell_type": "code",
      "source": [
        "#The bar labels on the x axis are mostly unreadable due to overlap\n",
        "sns.countplot(data=pokemon,x=\"Type 1\",color=base_color);"
      ],
      "metadata": {
        "colab": {
          "base_uri": "https://localhost:8080/",
          "height": 279
        },
        "id": "xDzfqJgdzluV",
        "outputId": "a9c6bcab-436b-4ad5-b4e0-dd166358f5db"
      },
      "execution_count": 35,
      "outputs": [
        {
          "output_type": "display_data",
          "data": {
            "text/plain": [
              "<Figure size 432x288 with 1 Axes>"
            ],
            "image/png": "[encoded data removed]"
          },
          "metadata": {
            "needs_background": "light"
          }
        }
      ]
    },
    {
      "cell_type": "code",
      "source": [
        "sns.countplot(data=pokemon,x=\"Type 1\",color=base_color)\n",
        "plt.xticks(rotation=70);"
      ],
      "metadata": {
        "colab": {
          "base_uri": "https://localhost:8080/",
          "height": 310
        },
        "id": "e_i9-0Z_zlxP",
        "outputId": "5b0b0a33-71d3-466f-fcee-49c6409995bb"
      },
      "execution_count": 36,
      "outputs": [
        {
          "output_type": "display_data",
          "data": {
            "text/plain": [
              "<Figure size 432x288 with 1 Axes>"
            ],
            "image/png": "[encoded data removed]"
          },
          "metadata": {
            "needs_background": "light"
          }
        }
      ]
    },
    {
      "cell_type": "markdown",
      "source": [
        "One common variation for bar chars is the horizontal bar chart.\n",
        "\n",
        "In this variation, the chart is essentially turned 90 degrees clockwise.\n",
        "\n",
        "If you have a lot of categories, or the category names are long, then the horizontal orientation can be more convenient in terms of the space needed to create a readable plot."
      ],
      "metadata": {
        "id": "s7pLAqwD-V1c"
      }
    },
    {
      "cell_type": "code",
      "source": [
        "#horizontal bar chart x=vertical and y = horizontal\n",
        "type_order=pokemon[\"Type 1\"].value_counts().index\n",
        "sns.countplot(data=pokemon,y=\"Type 1\",color=base_color,order=type_order);"
      ],
      "metadata": {
        "colab": {
          "base_uri": "https://localhost:8080/",
          "height": 279
        },
        "id": "mZPIVKID8KR0",
        "outputId": "eefe3c29-e8ba-49d2-9215-a15b4fc5e5bf"
      },
      "execution_count": 37,
      "outputs": [
        {
          "output_type": "display_data",
          "data": {
            "text/plain": [
              "<Figure size 432x288 with 1 Axes>"
            ],
            "image/png": "[encoded data removed]"
          },
          "metadata": {
            "needs_background": "light"
          }
        }
      ]
    },
    {
      "cell_type": "markdown",
      "source": [
        "For ordinal data types, the inherent order of the levels is a more important feature to convey.\n",
        "\n",
        "It is more important to know if the most common categories are lower or higher in the spectrum.\n",
        "\n",
        "By converting the data into an ordered categorical data type, the order of categories becomes innate to the feature, and we won't need to specify an order parameter each time it's required in a plot."
      ],
      "metadata": {
        "id": "quRCWxtr_MME"
      }
    },
    {
      "cell_type": "code",
      "source": [
        "import random\n",
        "levels= ['Alpha', 'Beta', 'Gamma', 'Delta']\n",
        "level = [random.choice(levels) for i in range(1000)]\n",
        "df = pd.DataFrame({'id': range(1000), 'level':level})\n",
        "df.head()"
      ],
      "metadata": {
        "colab": {
          "base_uri": "https://localhost:8080/",
          "height": 206
        },
        "id": "uvh2s-GYzl0J",
        "outputId": "af120908-c77a-497b-9611-047d201afd7c"
      },
      "execution_count": 38,
      "outputs": [
        {
          "output_type": "execute_result",
          "data": {
            "text/plain": [
              "   id  level\n",
              "0   0   Beta\n",
              "1   1  Gamma\n",
              "2   2  Delta\n",
              "3   3  Gamma\n",
              "4   4  Delta"
            ],
            "text/html": [
              "\n",
              "  <div id=\"df-09ea8549-7793-4c18-a495-bcd53979a3e3\">\n",
              "    <div class=\"colab-df-container\">\n",
              "      <div>\n",
              "<style scoped>\n",
              "    .dataframe tbody tr th:only-of-type {\n",
              "        vertical-align: middle;\n",
              "    }\n",
              "\n",
              "    .dataframe tbody tr th {\n",
              "        vertical-align: top;\n",
              "    }\n",
              "\n",
              "    .dataframe thead th {\n",
              "        text-align: right;\n",
              "    }\n",
              "</style>\n",
              "<table border=\"1\" class=\"dataframe\">\n",
              "  <thead>\n",
              "    <tr style=\"text-align: right;\">\n",
              "      <th></th>\n",
              "      <th>id</th>\n",
              "      <th>level</th>\n",
              "    </tr>\n",
              "  </thead>\n",
              "  <tbody>\n",
              "    <tr>\n",
              "      <th>0</th>\n",
              "      <td>0</td>\n",
              "      <td>Beta</td>\n",
              "    </tr>\n",
              "    <tr>\n",
              "      <th>1</th>\n",
              "      <td>1</td>\n",
              "      <td>Gamma</td>\n",
              "    </tr>\n",
              "    <tr>\n",
              "      <th>2</th>\n",
              "      <td>2</td>\n",
              "      <td>Delta</td>\n",
              "    </tr>\n",
              "    <tr>\n",
              "      <th>3</th>\n",
              "      <td>3</td>\n",
              "      <td>Gamma</td>\n",
              "    </tr>\n",
              "    <tr>\n",
              "      <th>4</th>\n",
              "      <td>4</td>\n",
              "      <td>Delta</td>\n",
              "    </tr>\n",
              "  </tbody>\n",
              "</table>\n",
              "</div>\n",
              "      <button class=\"colab-df-convert\" onclick=\"convertToInteractive('df-09ea8549-7793-4c18-a495-bcd53979a3e3')\"\n",
              "              title=\"Convert this dataframe to an interactive table.\"\n",
              "              style=\"display:none;\">\n",
              "        \n",
              "  <svg xmlns=\"http://www.w3.org/2000/svg\" height=\"24px\"viewBox=\"0 0 24 24\"\n",
              "       width=\"24px\">\n",
              "    <path d=\"M0 0h24v24H0V0z\" fill=\"none\"/>\n",
              "    <path d=\"M18.56 5.44l.94 2.06.94-2.06 2.06-.94-2.06-.94-.94-2.06-.94 2.06-2.06.94zm-11 1L8.5 8.5l.94-2.06 2.06-.94-2.06-.94L8.5 2.5l-.94 2.06-2.06.94zm10 10l.94 2.06.94-2.06 2.06-.94-2.06-.94-.94-2.06-.94 2.06-2.06.94z\"/><path d=\"M17.41 7.96l-1.37-1.37c-.4-.4-.92-.59-1.43-.59-.52 0-1.04.2-1.43.59L10.3 9.45l-7.72 7.72c-.78.78-.78 2.05 0 2.83L4 21.41c.39.39.9.59 1.41.59.51 0 1.02-.2 1.41-.59l7.78-7.78 2.81-2.81c.8-.78.8-2.07 0-2.86zM5.41 20L4 18.59l7.72-7.72 1.47 1.35L5.41 20z\"/>\n",
              "  </svg>\n",
              "      </button>\n",
              "      \n",
              "  <style>\n",
              "    .colab-df-container {\n",
              "      display:flex;\n",
              "      flex-wrap:wrap;\n",
              "      gap: 12px;\n",
              "    }\n",
              "\n",
              "    .colab-df-convert {\n",
              "      background-color: #E8F0FE;\n",
              "      border: none;\n",
              "      border-radius: 50%;\n",
              "      cursor: pointer;\n",
              "      display: none;\n",
              "      fill: #1967D2;\n",
              "      height: 32px;\n",
              "      padding: 0 0 0 0;\n",
              "      width: 32px;\n",
              "    }\n",
              "\n",
              "    .colab-df-convert:hover {\n",
              "      background-color: #E2EBFA;\n",
              "      box-shadow: 0px 1px 2px rgba(60, 64, 67, 0.3), 0px 1px 3px 1px rgba(60, 64, 67, 0.15);\n",
              "      fill: #174EA6;\n",
              "    }\n",
              "\n",
              "    [theme=dark] .colab-df-convert {\n",
              "      background-color: #3B4455;\n",
              "      fill: #D2E3FC;\n",
              "    }\n",
              "\n",
              "    [theme=dark] .colab-df-convert:hover {\n",
              "      background-color: #434B5C;\n",
              "      box-shadow: 0px 1px 3px 1px rgba(0, 0, 0, 0.15);\n",
              "      filter: drop-shadow(0px 1px 2px rgba(0, 0, 0, 0.3));\n",
              "      fill: #FFFFFF;\n",
              "    }\n",
              "  </style>\n",
              "\n",
              "      <script>\n",
              "        const buttonEl =\n",
              "          document.querySelector('#df-09ea8549-7793-4c18-a495-bcd53979a3e3 button.colab-df-convert');\n",
              "        buttonEl.style.display =\n",
              "          google.colab.kernel.accessAllowed ? 'block' : 'none';\n",
              "\n",
              "        async function convertToInteractive(key) {\n",
              "          const element = document.querySelector('#df-09ea8549-7793-4c18-a495-bcd53979a3e3');\n",
              "          const dataTable =\n",
              "            await google.colab.kernel.invokeFunction('convertToInteractive',\n",
              "                                                     [key], {});\n",
              "          if (!dataTable) return;\n",
              "\n",
              "          const docLinkHtml = 'Like what you see? Visit the ' +\n",
              "            '<a target=\"_blank\" href=https://colab.research.google.com/notebooks/data_table.ipynb>data table notebook</a>'\n",
              "            + ' to learn more about interactive tables.';\n",
              "          element.innerHTML = '';\n",
              "          dataTable['output_type'] = 'display_data';\n",
              "          await google.colab.output.renderOutput(dataTable, element);\n",
              "          const docLink = document.createElement('div');\n",
              "          docLink.innerHTML = docLinkHtml;\n",
              "          element.appendChild(docLink);\n",
              "        }\n",
              "      </script>\n",
              "    </div>\n",
              "  </div>\n",
              "  "
            ]
          },
          "metadata": {},
          "execution_count": 38
        }
      ]
    },
    {
      "cell_type": "code",
      "source": [
        "sns.countplot(data=df,x=\"level\",color=base_color);"
      ],
      "metadata": {
        "colab": {
          "base_uri": "https://localhost:8080/",
          "height": 279
        },
        "id": "y_hIP2hfzl2c",
        "outputId": "976bd235-06d2-4229-88d6-70254ed7a808"
      },
      "execution_count": 39,
      "outputs": [
        {
          "output_type": "display_data",
          "data": {
            "text/plain": [
              "<Figure size 432x288 with 1 Axes>"
            ],
            "image/png": "[encoded data removed]"
          },
          "metadata": {
            "needs_background": "light"
          }
        }
      ]
    },
    {
      "cell_type": "markdown",
      "source": [
        "By default, Pandas reads in string data as object types, and will plot the bars in the order in which the unique values were seen."
      ],
      "metadata": {
        "id": "kaDxMqfuAfZq"
      }
    },
    {
      "cell_type": "code",
      "source": [
        "#Convert the level data from an object data type into an ordered categorical data type\n",
        "level_order = ['Alpha', 'Beta', 'Gamma', 'Delta']\n",
        "ordered_cat = pd.api.types.CategoricalDtype(categories = level_order, ordered = True)\n",
        "df['level'] = df['level'].astype(ordered_cat)"
      ],
      "metadata": {
        "id": "w3dxCoKUzl53"
      },
      "execution_count": 40,
      "outputs": []
    },
    {
      "cell_type": "code",
      "source": [
        "df[\"level\"].dtypes"
      ],
      "metadata": {
        "colab": {
          "base_uri": "https://localhost:8080/"
        },
        "id": "DyAXEUDc_PW_",
        "outputId": "fc17f8b8-203b-40b5-9cb4-d0199bddfaa2"
      },
      "execution_count": 41,
      "outputs": [
        {
          "output_type": "execute_result",
          "data": {
            "text/plain": [
              "CategoricalDtype(categories=['Alpha', 'Beta', 'Gamma', 'Delta'], ordered=True)"
            ]
          },
          "metadata": {},
          "execution_count": 41
        }
      ]
    },
    {
      "cell_type": "code",
      "source": [
        "sns.countplot(data=df,x=\"level\",color=base_color);"
      ],
      "metadata": {
        "colab": {
          "base_uri": "https://localhost:8080/",
          "height": 279
        },
        "id": "0N93h434_PZg",
        "outputId": "0b01fef0-fbb7-497f-d387-11b3b1bd89bb"
      },
      "execution_count": 42,
      "outputs": [
        {
          "output_type": "display_data",
          "data": {
            "text/plain": [
              "<Figure size 432x288 with 1 Axes>"
            ],
            "image/png": "[encoded data removed]"
          },
          "metadata": {
            "needs_background": "light"
          }
        }
      ]
    },
    {
      "cell_type": "markdown",
      "source": [
        "If your data is a pandas Series, 1-d array, or a list, you can set it as the first argument to the countplot function."
      ],
      "metadata": {
        "id": "tiAjMbJTBGuF"
      }
    },
    {
      "cell_type": "code",
      "source": [
        "sns.countplot(x=pokemon[\"Generation\"],color=base_color);"
      ],
      "metadata": {
        "colab": {
          "base_uri": "https://localhost:8080/",
          "height": 279
        },
        "id": "pTKiHWgZ_PcP",
        "outputId": "9f2ae774-f44b-4f56-d337-9fc963f5789a"
      },
      "execution_count": 43,
      "outputs": [
        {
          "output_type": "display_data",
          "data": {
            "text/plain": [
              "<Figure size 432x288 with 1 Axes>"
            ],
            "image/png": "[encoded data removed]"
          },
          "metadata": {
            "needs_background": "light"
          }
        }
      ]
    },
    {
      "cell_type": "markdown",
      "source": [
        "**Absolute vs. Relative Frequency**\n",
        "\n",
        "Absolute frequency: number of data points on the length axis.\n",
        "\n",
        "Relative frequency: the proportion of the data that falls in each category. i.e percentage of the each category.\n",
        "\n",
        "Changing the count axis to relative proportions makes it much easier to see how much each category contributes to the whole."
      ],
      "metadata": {
        "id": "MJwvuxTrBXD_"
      }
    },
    {
      "cell_type": "code",
      "source": [
        "pokemon.columns"
      ],
      "metadata": {
        "colab": {
          "base_uri": "https://localhost:8080/"
        },
        "id": "MRK_dGTnHBHn",
        "outputId": "bced3bfb-94ee-4349-de9c-e05513a356db"
      },
      "execution_count": 44,
      "outputs": [
        {
          "output_type": "execute_result",
          "data": {
            "text/plain": [
              "Index(['Sn no', 'Name', 'Upper Name', 'lower name', 'Type 1', 'Type 2', 'HP',\n",
              "       'Attack', 'Defense', 'Sp. Atk', 'Sp. Def', 'Speed', 'Generation',\n",
              "       'Legendary'],\n",
              "      dtype='object')"
            ]
          },
          "metadata": {},
          "execution_count": 44
        }
      ]
    },
    {
      "cell_type": "code",
      "source": [
        "pokemon.head(3)"
      ],
      "metadata": {
        "colab": {
          "base_uri": "https://localhost:8080/",
          "height": 188
        },
        "id": "9LMccBtrIB2O",
        "outputId": "00d24130-188a-4563-9745-9112815d4028"
      },
      "execution_count": 45,
      "outputs": [
        {
          "output_type": "execute_result",
          "data": {
            "text/plain": [
              "   Sn no       Name Upper Name lower name Type 1  Type 2  HP  Attack  Defense  \\\n",
              "0      1  Bulbasaur  BULBASAUR  bulbasaur  Grass  Poison  45      49       49   \n",
              "1      2    Ivysaur    IVYSAUR    ivysaur  Grass  Poison  60      62       63   \n",
              "2      3   Venusaur   VENUSAUR   venusaur  Grass  Poison  80      82       83   \n",
              "\n",
              "   Sp. Atk  Sp. Def  Speed  Generation  Legendary  \n",
              "0       65       65     45           1      False  \n",
              "1       80       80     60           1      False  \n",
              "2      100      100     80           1      False  "
            ],
            "text/html": [
              "\n",
              "  <div id=\"df-9bec2130-8336-4b1d-b55e-063260ae2238\">\n",
              "    <div class=\"colab-df-container\">\n",
              "      <div>\n",
              "<style scoped>\n",
              "    .dataframe tbody tr th:only-of-type {\n",
              "        vertical-align: middle;\n",
              "    }\n",
              "\n",
              "    .dataframe tbody tr th {\n",
              "        vertical-align: top;\n",
              "    }\n",
              "\n",
              "    .dataframe thead th {\n",
              "        text-align: right;\n",
              "    }\n",
              "</style>\n",
              "<table border=\"1\" class=\"dataframe\">\n",
              "  <thead>\n",
              "    <tr style=\"text-align: right;\">\n",
              "      <th></th>\n",
              "      <th>Sn no</th>\n",
              "      <th>Name</th>\n",
              "      <th>Upper Name</th>\n",
              "      <th>lower name</th>\n",
              "      <th>Type 1</th>\n",
              "      <th>Type 2</th>\n",
              "      <th>HP</th>\n",
              "      <th>Attack</th>\n",
              "      <th>Defense</th>\n",
              "      <th>Sp. Atk</th>\n",
              "      <th>Sp. Def</th>\n",
              "      <th>Speed</th>\n",
              "      <th>Generation</th>\n",
              "      <th>Legendary</th>\n",
              "    </tr>\n",
              "  </thead>\n",
              "  <tbody>\n",
              "    <tr>\n",
              "      <th>0</th>\n",
              "      <td>1</td>\n",
              "      <td>Bulbasaur</td>\n",
              "      <td>BULBASAUR</td>\n",
              "      <td>bulbasaur</td>\n",
              "      <td>Grass</td>\n",
              "      <td>Poison</td>\n",
              "      <td>45</td>\n",
              "      <td>49</td>\n",
              "      <td>49</td>\n",
              "      <td>65</td>\n",
              "      <td>65</td>\n",
              "      <td>45</td>\n",
              "      <td>1</td>\n",
              "      <td>False</td>\n",
              "    </tr>\n",
              "    <tr>\n",
              "      <th>1</th>\n",
              "      <td>2</td>\n",
              "      <td>Ivysaur</td>\n",
              "      <td>IVYSAUR</td>\n",
              "      <td>ivysaur</td>\n",
              "      <td>Grass</td>\n",
              "      <td>Poison</td>\n",
              "      <td>60</td>\n",
              "      <td>62</td>\n",
              "      <td>63</td>\n",
              "      <td>80</td>\n",
              "      <td>80</td>\n",
              "      <td>60</td>\n",
              "      <td>1</td>\n",
              "      <td>False</td>\n",
              "    </tr>\n",
              "    <tr>\n",
              "      <th>2</th>\n",
              "      <td>3</td>\n",
              "      <td>Venusaur</td>\n",
              "      <td>VENUSAUR</td>\n",
              "      <td>venusaur</td>\n",
              "      <td>Grass</td>\n",
              "      <td>Poison</td>\n",
              "      <td>80</td>\n",
              "      <td>82</td>\n",
              "      <td>83</td>\n",
              "      <td>100</td>\n",
              "      <td>100</td>\n",
              "      <td>80</td>\n",
              "      <td>1</td>\n",
              "      <td>False</td>\n",
              "    </tr>\n",
              "  </tbody>\n",
              "</table>\n",
              "</div>\n",
              "      <button class=\"colab-df-convert\" onclick=\"convertToInteractive('df-9bec2130-8336-4b1d-b55e-063260ae2238')\"\n",
              "              title=\"Convert this dataframe to an interactive table.\"\n",
              "              style=\"display:none;\">\n",
              "        \n",
              "  <svg xmlns=\"http://www.w3.org/2000/svg\" height=\"24px\"viewBox=\"0 0 24 24\"\n",
              "       width=\"24px\">\n",
              "    <path d=\"M0 0h24v24H0V0z\" fill=\"none\"/>\n",
              "    <path d=\"M18.56 5.44l.94 2.06.94-2.06 2.06-.94-2.06-.94-.94-2.06-.94 2.06-2.06.94zm-11 1L8.5 8.5l.94-2.06 2.06-.94-2.06-.94L8.5 2.5l-.94 2.06-2.06.94zm10 10l.94 2.06.94-2.06 2.06-.94-2.06-.94-.94-2.06-.94 2.06-2.06.94z\"/><path d=\"M17.41 7.96l-1.37-1.37c-.4-.4-.92-.59-1.43-.59-.52 0-1.04.2-1.43.59L10.3 9.45l-7.72 7.72c-.78.78-.78 2.05 0 2.83L4 21.41c.39.39.9.59 1.41.59.51 0 1.02-.2 1.41-.59l7.78-7.78 2.81-2.81c.8-.78.8-2.07 0-2.86zM5.41 20L4 18.59l7.72-7.72 1.47 1.35L5.41 20z\"/>\n",
              "  </svg>\n",
              "      </button>\n",
              "      \n",
              "  <style>\n",
              "    .colab-df-container {\n",
              "      display:flex;\n",
              "      flex-wrap:wrap;\n",
              "      gap: 12px;\n",
              "    }\n",
              "\n",
              "    .colab-df-convert {\n",
              "      background-color: #E8F0FE;\n",
              "      border: none;\n",
              "      border-radius: 50%;\n",
              "      cursor: pointer;\n",
              "      display: none;\n",
              "      fill: #1967D2;\n",
              "      height: 32px;\n",
              "      padding: 0 0 0 0;\n",
              "      width: 32px;\n",
              "    }\n",
              "\n",
              "    .colab-df-convert:hover {\n",
              "      background-color: #E2EBFA;\n",
              "      box-shadow: 0px 1px 2px rgba(60, 64, 67, 0.3), 0px 1px 3px 1px rgba(60, 64, 67, 0.15);\n",
              "      fill: #174EA6;\n",
              "    }\n",
              "\n",
              "    [theme=dark] .colab-df-convert {\n",
              "      background-color: #3B4455;\n",
              "      fill: #D2E3FC;\n",
              "    }\n",
              "\n",
              "    [theme=dark] .colab-df-convert:hover {\n",
              "      background-color: #434B5C;\n",
              "      box-shadow: 0px 1px 3px 1px rgba(0, 0, 0, 0.15);\n",
              "      filter: drop-shadow(0px 1px 2px rgba(0, 0, 0, 0.3));\n",
              "      fill: #FFFFFF;\n",
              "    }\n",
              "  </style>\n",
              "\n",
              "      <script>\n",
              "        const buttonEl =\n",
              "          document.querySelector('#df-9bec2130-8336-4b1d-b55e-063260ae2238 button.colab-df-convert');\n",
              "        buttonEl.style.display =\n",
              "          google.colab.kernel.accessAllowed ? 'block' : 'none';\n",
              "\n",
              "        async function convertToInteractive(key) {\n",
              "          const element = document.querySelector('#df-9bec2130-8336-4b1d-b55e-063260ae2238');\n",
              "          const dataTable =\n",
              "            await google.colab.kernel.invokeFunction('convertToInteractive',\n",
              "                                                     [key], {});\n",
              "          if (!dataTable) return;\n",
              "\n",
              "          const docLinkHtml = 'Like what you see? Visit the ' +\n",
              "            '<a target=\"_blank\" href=https://colab.research.google.com/notebooks/data_table.ipynb>data table notebook</a>'\n",
              "            + ' to learn more about interactive tables.';\n",
              "          element.innerHTML = '';\n",
              "          dataTable['output_type'] = 'display_data';\n",
              "          await google.colab.output.renderOutput(dataTable, element);\n",
              "          const docLink = document.createElement('div');\n",
              "          docLink.innerHTML = docLinkHtml;\n",
              "          element.appendChild(docLink);\n",
              "        }\n",
              "      </script>\n",
              "    </div>\n",
              "  </div>\n",
              "  "
            ]
          },
          "metadata": {},
          "execution_count": 45
        }
      ]
    },
    {
      "cell_type": "code",
      "source": [
        "pd.melt(pokemon,id_vars=[\"Sn no\",\"Name\"],value_vars=[\"Type 1\",\"Type 2\"],var_name=\"type_level\",value_name=\"type\")"
      ],
      "metadata": {
        "colab": {
          "base_uri": "https://localhost:8080/",
          "height": 424
        },
        "id": "-voQ9gOT_58f",
        "outputId": "4d63bf35-f1da-40c4-f11d-2c71cbf35413"
      },
      "execution_count": 46,
      "outputs": [
        {
          "output_type": "execute_result",
          "data": {
            "text/plain": [
              "      Sn no                   Name type_level   type\n",
              "0         1              Bulbasaur     Type 1  Grass\n",
              "1         2                Ivysaur     Type 1  Grass\n",
              "2         3               Venusaur     Type 1  Grass\n",
              "3         3  VenusaurMega Venusaur     Type 1  Grass\n",
              "4         4             Charmander     Type 1   Fire\n",
              "...     ...                    ...        ...    ...\n",
              "1593    719                Diancie     Type 2  Fairy\n",
              "1594    719    DiancieMega Diancie     Type 2  Fairy\n",
              "1595    720    HoopaHoopa Confined     Type 2  Ghost\n",
              "1596    720     HoopaHoopa Unbound     Type 2   Dark\n",
              "1597    721              Volcanion     Type 2  Water\n",
              "\n",
              "[1598 rows x 4 columns]"
            ],
            "text/html": [
              "\n",
              "  <div id=\"df-56668d73-3e34-4975-911c-dc8f87c60b45\">\n",
              "    <div class=\"colab-df-container\">\n",
              "      <div>\n",
              "<style scoped>\n",
              "    .dataframe tbody tr th:only-of-type {\n",
              "        vertical-align: middle;\n",
              "    }\n",
              "\n",
              "    .dataframe tbody tr th {\n",
              "        vertical-align: top;\n",
              "    }\n",
              "\n",
              "    .dataframe thead th {\n",
              "        text-align: right;\n",
              "    }\n",
              "</style>\n",
              "<table border=\"1\" class=\"dataframe\">\n",
              "  <thead>\n",
              "    <tr style=\"text-align: right;\">\n",
              "      <th></th>\n",
              "      <th>Sn no</th>\n",
              "      <th>Name</th>\n",
              "      <th>type_level</th>\n",
              "      <th>type</th>\n",
              "    </tr>\n",
              "  </thead>\n",
              "  <tbody>\n",
              "    <tr>\n",
              "      <th>0</th>\n",
              "      <td>1</td>\n",
              "      <td>Bulbasaur</td>\n",
              "      <td>Type 1</td>\n",
              "      <td>Grass</td>\n",
              "    </tr>\n",
              "    <tr>\n",
              "      <th>1</th>\n",
              "      <td>2</td>\n",
              "      <td>Ivysaur</td>\n",
              "      <td>Type 1</td>\n",
              "      <td>Grass</td>\n",
              "    </tr>\n",
              "    <tr>\n",
              "      <th>2</th>\n",
              "      <td>3</td>\n",
              "      <td>Venusaur</td>\n",
              "      <td>Type 1</td>\n",
              "      <td>Grass</td>\n",
              "    </tr>\n",
              "    <tr>\n",
              "      <th>3</th>\n",
              "      <td>3</td>\n",
              "      <td>VenusaurMega Venusaur</td>\n",
              "      <td>Type 1</td>\n",
              "      <td>Grass</td>\n",
              "    </tr>\n",
              "    <tr>\n",
              "      <th>4</th>\n",
              "      <td>4</td>\n",
              "      <td>Charmander</td>\n",
              "      <td>Type 1</td>\n",
              "      <td>Fire</td>\n",
              "    </tr>\n",
              "    <tr>\n",
              "      <th>...</th>\n",
              "      <td>...</td>\n",
              "      <td>...</td>\n",
              "      <td>...</td>\n",
              "      <td>...</td>\n",
              "    </tr>\n",
              "    <tr>\n",
              "      <th>1593</th>\n",
              "      <td>719</td>\n",
              "      <td>Diancie</td>\n",
              "      <td>Type 2</td>\n",
              "      <td>Fairy</td>\n",
              "    </tr>\n",
              "    <tr>\n",
              "      <th>1594</th>\n",
              "      <td>719</td>\n",
              "      <td>DiancieMega Diancie</td>\n",
              "      <td>Type 2</td>\n",
              "      <td>Fairy</td>\n",
              "    </tr>\n",
              "    <tr>\n",
              "      <th>1595</th>\n",
              "      <td>720</td>\n",
              "      <td>HoopaHoopa Confined</td>\n",
              "      <td>Type 2</td>\n",
              "      <td>Ghost</td>\n",
              "    </tr>\n",
              "    <tr>\n",
              "      <th>1596</th>\n",
              "      <td>720</td>\n",
              "      <td>HoopaHoopa Unbound</td>\n",
              "      <td>Type 2</td>\n",
              "      <td>Dark</td>\n",
              "    </tr>\n",
              "    <tr>\n",
              "      <th>1597</th>\n",
              "      <td>721</td>\n",
              "      <td>Volcanion</td>\n",
              "      <td>Type 2</td>\n",
              "      <td>Water</td>\n",
              "    </tr>\n",
              "  </tbody>\n",
              "</table>\n",
              "<p>1598 rows × 4 columns</p>\n",
              "</div>\n",
              "      <button class=\"colab-df-convert\" onclick=\"convertToInteractive('df-56668d73-3e34-4975-911c-dc8f87c60b45')\"\n",
              "              title=\"Convert this dataframe to an interactive table.\"\n",
              "              style=\"display:none;\">\n",
              "        \n",
              "  <svg xmlns=\"http://www.w3.org/2000/svg\" height=\"24px\"viewBox=\"0 0 24 24\"\n",
              "       width=\"24px\">\n",
              "    <path d=\"M0 0h24v24H0V0z\" fill=\"none\"/>\n",
              "    <path d=\"M18.56 5.44l.94 2.06.94-2.06 2.06-.94-2.06-.94-.94-2.06-.94 2.06-2.06.94zm-11 1L8.5 8.5l.94-2.06 2.06-.94-2.06-.94L8.5 2.5l-.94 2.06-2.06.94zm10 10l.94 2.06.94-2.06 2.06-.94-2.06-.94-.94-2.06-.94 2.06-2.06.94z\"/><path d=\"M17.41 7.96l-1.37-1.37c-.4-.4-.92-.59-1.43-.59-.52 0-1.04.2-1.43.59L10.3 9.45l-7.72 7.72c-.78.78-.78 2.05 0 2.83L4 21.41c.39.39.9.59 1.41.59.51 0 1.02-.2 1.41-.59l7.78-7.78 2.81-2.81c.8-.78.8-2.07 0-2.86zM5.41 20L4 18.59l7.72-7.72 1.47 1.35L5.41 20z\"/>\n",
              "  </svg>\n",
              "      </button>\n",
              "      \n",
              "  <style>\n",
              "    .colab-df-container {\n",
              "      display:flex;\n",
              "      flex-wrap:wrap;\n",
              "      gap: 12px;\n",
              "    }\n",
              "\n",
              "    .colab-df-convert {\n",
              "      background-color: #E8F0FE;\n",
              "      border: none;\n",
              "      border-radius: 50%;\n",
              "      cursor: pointer;\n",
              "      display: none;\n",
              "      fill: #1967D2;\n",
              "      height: 32px;\n",
              "      padding: 0 0 0 0;\n",
              "      width: 32px;\n",
              "    }\n",
              "\n",
              "    .colab-df-convert:hover {\n",
              "      background-color: #E2EBFA;\n",
              "      box-shadow: 0px 1px 2px rgba(60, 64, 67, 0.3), 0px 1px 3px 1px rgba(60, 64, 67, 0.15);\n",
              "      fill: #174EA6;\n",
              "    }\n",
              "\n",
              "    [theme=dark] .colab-df-convert {\n",
              "      background-color: #3B4455;\n",
              "      fill: #D2E3FC;\n",
              "    }\n",
              "\n",
              "    [theme=dark] .colab-df-convert:hover {\n",
              "      background-color: #434B5C;\n",
              "      box-shadow: 0px 1px 3px 1px rgba(0, 0, 0, 0.15);\n",
              "      filter: drop-shadow(0px 1px 2px rgba(0, 0, 0, 0.3));\n",
              "      fill: #FFFFFF;\n",
              "    }\n",
              "  </style>\n",
              "\n",
              "      <script>\n",
              "        const buttonEl =\n",
              "          document.querySelector('#df-56668d73-3e34-4975-911c-dc8f87c60b45 button.colab-df-convert');\n",
              "        buttonEl.style.display =\n",
              "          google.colab.kernel.accessAllowed ? 'block' : 'none';\n",
              "\n",
              "        async function convertToInteractive(key) {\n",
              "          const element = document.querySelector('#df-56668d73-3e34-4975-911c-dc8f87c60b45');\n",
              "          const dataTable =\n",
              "            await google.colab.kernel.invokeFunction('convertToInteractive',\n",
              "                                                     [key], {});\n",
              "          if (!dataTable) return;\n",
              "\n",
              "          const docLinkHtml = 'Like what you see? Visit the ' +\n",
              "            '<a target=\"_blank\" href=https://colab.research.google.com/notebooks/data_table.ipynb>data table notebook</a>'\n",
              "            + ' to learn more about interactive tables.';\n",
              "          element.innerHTML = '';\n",
              "          dataTable['output_type'] = 'display_data';\n",
              "          await google.colab.output.renderOutput(dataTable, element);\n",
              "          const docLink = document.createElement('div');\n",
              "          docLink.innerHTML = docLinkHtml;\n",
              "          element.appendChild(docLink);\n",
              "        }\n",
              "      </script>\n",
              "    </div>\n",
              "  </div>\n",
              "  "
            ]
          },
          "metadata": {},
          "execution_count": 46
        }
      ]
    },
    {
      "cell_type": "code",
      "source": [
        "pkmn_types=pd.melt(pokemon,id_vars=[\"Sn no\",\"Name\"],value_vars=[\"Type 1\",\"Type 2\"],var_name=\"type_level\",value_name=\"type\")\n",
        "pkmn_types[802:812]"
      ],
      "metadata": {
        "colab": {
          "base_uri": "https://localhost:8080/",
          "height": 363
        },
        "id": "obY2cpXx_6AJ",
        "outputId": "a5d27314-3fe3-4707-c317-5015ff80edba"
      },
      "execution_count": 47,
      "outputs": [
        {
          "output_type": "execute_result",
          "data": {
            "text/plain": [
              "     Sn no                       Name type_level    type\n",
              "802      3      VenusaurMega Venusaur     Type 2  Poison\n",
              "803      4                 Charmander     Type 2  Flying\n",
              "804      5                 Charmeleon     Type 2  Flying\n",
              "805      6                  Charizard     Type 2  Flying\n",
              "806      6  CharizardMega Charizard X     Type 2  Dragon\n",
              "807      6  CharizardMega Charizard Y     Type 2  Flying\n",
              "808      7                   Squirtle     Type 2  Flying\n",
              "809      8                  Wartortle     Type 2  Flying\n",
              "810      9                  Blastoise     Type 2  Flying\n",
              "811      9    BlastoiseMega Blastoise     Type 2  Flying"
            ],
            "text/html": [
              "\n",
              "  <div id=\"df-28284dfa-21fa-4732-bd95-61d09e019646\">\n",
              "    <div class=\"colab-df-container\">\n",
              "      <div>\n",
              "<style scoped>\n",
              "    .dataframe tbody tr th:only-of-type {\n",
              "        vertical-align: middle;\n",
              "    }\n",
              "\n",
              "    .dataframe tbody tr th {\n",
              "        vertical-align: top;\n",
              "    }\n",
              "\n",
              "    .dataframe thead th {\n",
              "        text-align: right;\n",
              "    }\n",
              "</style>\n",
              "<table border=\"1\" class=\"dataframe\">\n",
              "  <thead>\n",
              "    <tr style=\"text-align: right;\">\n",
              "      <th></th>\n",
              "      <th>Sn no</th>\n",
              "      <th>Name</th>\n",
              "      <th>type_level</th>\n",
              "      <th>type</th>\n",
              "    </tr>\n",
              "  </thead>\n",
              "  <tbody>\n",
              "    <tr>\n",
              "      <th>802</th>\n",
              "      <td>3</td>\n",
              "      <td>VenusaurMega Venusaur</td>\n",
              "      <td>Type 2</td>\n",
              "      <td>Poison</td>\n",
              "    </tr>\n",
              "    <tr>\n",
              "      <th>803</th>\n",
              "      <td>4</td>\n",
              "      <td>Charmander</td>\n",
              "      <td>Type 2</td>\n",
              "      <td>Flying</td>\n",
              "    </tr>\n",
              "    <tr>\n",
              "      <th>804</th>\n",
              "      <td>5</td>\n",
              "      <td>Charmeleon</td>\n",
              "      <td>Type 2</td>\n",
              "      <td>Flying</td>\n",
              "    </tr>\n",
              "    <tr>\n",
              "      <th>805</th>\n",
              "      <td>6</td>\n",
              "      <td>Charizard</td>\n",
              "      <td>Type 2</td>\n",
              "      <td>Flying</td>\n",
              "    </tr>\n",
              "    <tr>\n",
              "      <th>806</th>\n",
              "      <td>6</td>\n",
              "      <td>CharizardMega Charizard X</td>\n",
              "      <td>Type 2</td>\n",
              "      <td>Dragon</td>\n",
              "    </tr>\n",
              "    <tr>\n",
              "      <th>807</th>\n",
              "      <td>6</td>\n",
              "      <td>CharizardMega Charizard Y</td>\n",
              "      <td>Type 2</td>\n",
              "      <td>Flying</td>\n",
              "    </tr>\n",
              "    <tr>\n",
              "      <th>808</th>\n",
              "      <td>7</td>\n",
              "      <td>Squirtle</td>\n",
              "      <td>Type 2</td>\n",
              "      <td>Flying</td>\n",
              "    </tr>\n",
              "    <tr>\n",
              "      <th>809</th>\n",
              "      <td>8</td>\n",
              "      <td>Wartortle</td>\n",
              "      <td>Type 2</td>\n",
              "      <td>Flying</td>\n",
              "    </tr>\n",
              "    <tr>\n",
              "      <th>810</th>\n",
              "      <td>9</td>\n",
              "      <td>Blastoise</td>\n",
              "      <td>Type 2</td>\n",
              "      <td>Flying</td>\n",
              "    </tr>\n",
              "    <tr>\n",
              "      <th>811</th>\n",
              "      <td>9</td>\n",
              "      <td>BlastoiseMega Blastoise</td>\n",
              "      <td>Type 2</td>\n",
              "      <td>Flying</td>\n",
              "    </tr>\n",
              "  </tbody>\n",
              "</table>\n",
              "</div>\n",
              "      <button class=\"colab-df-convert\" onclick=\"convertToInteractive('df-28284dfa-21fa-4732-bd95-61d09e019646')\"\n",
              "              title=\"Convert this dataframe to an interactive table.\"\n",
              "              style=\"display:none;\">\n",
              "        \n",
              "  <svg xmlns=\"http://www.w3.org/2000/svg\" height=\"24px\"viewBox=\"0 0 24 24\"\n",
              "       width=\"24px\">\n",
              "    <path d=\"M0 0h24v24H0V0z\" fill=\"none\"/>\n",
              "    <path d=\"M18.56 5.44l.94 2.06.94-2.06 2.06-.94-2.06-.94-.94-2.06-.94 2.06-2.06.94zm-11 1L8.5 8.5l.94-2.06 2.06-.94-2.06-.94L8.5 2.5l-.94 2.06-2.06.94zm10 10l.94 2.06.94-2.06 2.06-.94-2.06-.94-.94-2.06-.94 2.06-2.06.94z\"/><path d=\"M17.41 7.96l-1.37-1.37c-.4-.4-.92-.59-1.43-.59-.52 0-1.04.2-1.43.59L10.3 9.45l-7.72 7.72c-.78.78-.78 2.05 0 2.83L4 21.41c.39.39.9.59 1.41.59.51 0 1.02-.2 1.41-.59l7.78-7.78 2.81-2.81c.8-.78.8-2.07 0-2.86zM5.41 20L4 18.59l7.72-7.72 1.47 1.35L5.41 20z\"/>\n",
              "  </svg>\n",
              "      </button>\n",
              "      \n",
              "  <style>\n",
              "    .colab-df-container {\n",
              "      display:flex;\n",
              "      flex-wrap:wrap;\n",
              "      gap: 12px;\n",
              "    }\n",
              "\n",
              "    .colab-df-convert {\n",
              "      background-color: #E8F0FE;\n",
              "      border: none;\n",
              "      border-radius: 50%;\n",
              "      cursor: pointer;\n",
              "      display: none;\n",
              "      fill: #1967D2;\n",
              "      height: 32px;\n",
              "      padding: 0 0 0 0;\n",
              "      width: 32px;\n",
              "    }\n",
              "\n",
              "    .colab-df-convert:hover {\n",
              "      background-color: #E2EBFA;\n",
              "      box-shadow: 0px 1px 2px rgba(60, 64, 67, 0.3), 0px 1px 3px 1px rgba(60, 64, 67, 0.15);\n",
              "      fill: #174EA6;\n",
              "    }\n",
              "\n",
              "    [theme=dark] .colab-df-convert {\n",
              "      background-color: #3B4455;\n",
              "      fill: #D2E3FC;\n",
              "    }\n",
              "\n",
              "    [theme=dark] .colab-df-convert:hover {\n",
              "      background-color: #434B5C;\n",
              "      box-shadow: 0px 1px 3px 1px rgba(0, 0, 0, 0.15);\n",
              "      filter: drop-shadow(0px 1px 2px rgba(0, 0, 0, 0.3));\n",
              "      fill: #FFFFFF;\n",
              "    }\n",
              "  </style>\n",
              "\n",
              "      <script>\n",
              "        const buttonEl =\n",
              "          document.querySelector('#df-28284dfa-21fa-4732-bd95-61d09e019646 button.colab-df-convert');\n",
              "        buttonEl.style.display =\n",
              "          google.colab.kernel.accessAllowed ? 'block' : 'none';\n",
              "\n",
              "        async function convertToInteractive(key) {\n",
              "          const element = document.querySelector('#df-28284dfa-21fa-4732-bd95-61d09e019646');\n",
              "          const dataTable =\n",
              "            await google.colab.kernel.invokeFunction('convertToInteractive',\n",
              "                                                     [key], {});\n",
              "          if (!dataTable) return;\n",
              "\n",
              "          const docLinkHtml = 'Like what you see? Visit the ' +\n",
              "            '<a target=\"_blank\" href=https://colab.research.google.com/notebooks/data_table.ipynb>data table notebook</a>'\n",
              "            + ' to learn more about interactive tables.';\n",
              "          element.innerHTML = '';\n",
              "          dataTable['output_type'] = 'display_data';\n",
              "          await google.colab.output.renderOutput(dataTable, element);\n",
              "          const docLink = document.createElement('div');\n",
              "          docLink.innerHTML = docLinkHtml;\n",
              "          element.appendChild(docLink);\n",
              "        }\n",
              "      </script>\n",
              "    </div>\n",
              "  </div>\n",
              "  "
            ]
          },
          "metadata": {},
          "execution_count": 47
        }
      ]
    },
    {
      "cell_type": "code",
      "source": [
        "type_counts = pd.value_counts(pkmn_types['type'])\n",
        "type_order = type_counts.index"
      ],
      "metadata": {
        "id": "f1x4TTkaBE_8"
      },
      "execution_count": 48,
      "outputs": []
    },
    {
      "cell_type": "code",
      "source": [
        "#By default, sns.countplot function will plot the data in terms of absolute frequency\n",
        "sns.countplot(y = pkmn_types['type'], order = type_order, color = base_color);"
      ],
      "metadata": {
        "colab": {
          "base_uri": "https://localhost:8080/",
          "height": 279
        },
        "id": "_C5lqjJ0BFCb",
        "outputId": "ab68c48e-b401-4955-bb6d-305f063a56a8"
      },
      "execution_count": 49,
      "outputs": [
        {
          "output_type": "display_data",
          "data": {
            "text/plain": [
              "<Figure size 432x288 with 1 Axes>"
            ],
            "image/png": "[encoded data removed]"
          },
          "metadata": {
            "needs_background": "light"
          }
        }
      ]
    },
    {
      "cell_type": "code",
      "source": [
        "n_pokemon = pokemon.shape[0]\n",
        "max_type_count = type_counts[0]\n",
        "max_prop = max_type_count / n_pokemon\n",
        "print(max_prop)"
      ],
      "metadata": {
        "colab": {
          "base_uri": "https://localhost:8080/"
        },
        "id": "OtYgnehTBFE2",
        "outputId": "842d5c72-c600-41c9-ff71-60f64dcd3626"
      },
      "execution_count": 50,
      "outputs": [
        {
          "output_type": "stream",
          "name": "stdout",
          "text": [
            "0.609511889862328\n"
          ]
        }
      ]
    },
    {
      "cell_type": "code",
      "source": [
        "tick_props = np.arange(0, max_prop, 0.10)\n",
        "tick_names = ['{:0.2f}'.format(v) for v in tick_props]"
      ],
      "metadata": {
        "id": "RqE6oVZ1BFIH"
      },
      "execution_count": 51,
      "outputs": []
    },
    {
      "cell_type": "code",
      "source": [
        "#Relative frequency: relabel the count axis in terms of proportions\n",
        "sns.countplot(data = pkmn_types, y = 'type', order = type_order, color = base_color)\n",
        "plt.xticks(tick_props * n_pokemon, tick_names)\n",
        "plt.xlabel('Proportioin');"
      ],
      "metadata": {
        "colab": {
          "base_uri": "https://localhost:8080/",
          "height": 279
        },
        "id": "LrWVNp6lBFgq",
        "outputId": "444ccc95-de0d-46a3-f7b4-8a71acb1d4b0"
      },
      "execution_count": 52,
      "outputs": [
        {
          "output_type": "display_data",
          "data": {
            "text/plain": [
              "<Figure size 432x288 with 1 Axes>"
            ],
            "image/png": "[encoded data removed]"
          },
          "metadata": {
            "needs_background": "light"
          }
        }
      ]
    },
    {
      "cell_type": "code",
      "source": [
        "sns.countplot(data = pkmn_types, y = 'type', order = type_order, color = base_color)\n",
        "for i in range(type_counts.shape[0]):\n",
        "    count = type_counts[i]\n",
        "    pct_string = '{:0.1f}%'.format(100 * (count / n_pokemon))\n",
        "    plt.text(type_counts[i], i, pct_string, va = 'center')"
      ],
      "metadata": {
        "colab": {
          "base_uri": "https://localhost:8080/",
          "height": 279
        },
        "id": "9hELBbiSBFjV",
        "outputId": "1211ef03-4f54-4cfc-852c-690a67d4537f"
      },
      "execution_count": 53,
      "outputs": [
        {
          "output_type": "display_data",
          "data": {
            "text/plain": [
              "<Figure size 432x288 with 1 Axes>"
            ],
            "image/png": "[encoded data removed]"
          },
          "metadata": {
            "needs_background": "light"
          }
        }
      ]
    },
    {
      "cell_type": "code",
      "source": [
        "sns.countplot(data = pkmn_types, y = 'type', order = type_order, color = base_color)\n",
        "locs, labels = plt.yticks()\n",
        "for loc, label in zip(locs, labels):\n",
        "    count = type_counts[label.get_text()]\n",
        "    pct_string = '{:0.2f}%'.format(100 * count / n_pokemon)\n",
        "    plt.text(count - 15, loc, pct_string, va = 'center', color = 'w')"
      ],
      "metadata": {
        "colab": {
          "base_uri": "https://localhost:8080/",
          "height": 279
        },
        "id": "NLn3cDluBFqB",
        "outputId": "b7d93c96-e3f5-4353-c35c-365d92b513d9"
      },
      "execution_count": 54,
      "outputs": [
        {
          "output_type": "display_data",
          "data": {
            "text/plain": [
              "<Figure size 432x288 with 1 Axes>"
            ],
            "image/png": "[encoded data removed]"
          },
          "metadata": {
            "needs_background": "light"
          }
        }
      ]
    },
    {
      "cell_type": "markdown",
      "source": [
        "plt.yticks() or plt.xticks() returns a 2-tuple containing an array of label positions as well as a silent list of label names."
      ],
      "metadata": {
        "id": "KiqeqK8RJzsF"
      }
    },
    {
      "cell_type": "markdown",
      "source": [
        "Counting Missing Data"
      ],
      "metadata": {
        "id": "PM2KbZJGwRuT"
      }
    },
    {
      "cell_type": "code",
      "source": [
        "pokemon = pd.read_csv(\"/content/pokemon_data.csv\",encoding=\"latin-1\")\n",
        "pokemon.head(2)"
      ],
      "metadata": {
        "colab": {
          "base_uri": "https://localhost:8080/",
          "height": 156
        },
        "id": "fKjFQHtdw7q9",
        "outputId": "d8ba9847-1eac-459a-d173-95e41640be26"
      },
      "execution_count": 55,
      "outputs": [
        {
          "output_type": "execute_result",
          "data": {
            "text/plain": [
              "   Sn no       Name Upper Name lower name Type 1  Type 2  HP  Attack  Defense  \\\n",
              "0      1  Bulbasaur  BULBASAUR  bulbasaur  Grass  Poison  45      49       49   \n",
              "1      2    Ivysaur    IVYSAUR    ivysaur  Grass  Poison  60      62       63   \n",
              "\n",
              "   Sp. Atk  Sp. Def  Speed  Generation  Legendary  \n",
              "0       65       65     45           1      False  \n",
              "1       80       80     60           1      False  "
            ],
            "text/html": [
              "\n",
              "  <div id=\"df-64d253c9-a7ed-4f11-aeda-e7ba4352768e\">\n",
              "    <div class=\"colab-df-container\">\n",
              "      <div>\n",
              "<style scoped>\n",
              "    .dataframe tbody tr th:only-of-type {\n",
              "        vertical-align: middle;\n",
              "    }\n",
              "\n",
              "    .dataframe tbody tr th {\n",
              "        vertical-align: top;\n",
              "    }\n",
              "\n",
              "    .dataframe thead th {\n",
              "        text-align: right;\n",
              "    }\n",
              "</style>\n",
              "<table border=\"1\" class=\"dataframe\">\n",
              "  <thead>\n",
              "    <tr style=\"text-align: right;\">\n",
              "      <th></th>\n",
              "      <th>Sn no</th>\n",
              "      <th>Name</th>\n",
              "      <th>Upper Name</th>\n",
              "      <th>lower name</th>\n",
              "      <th>Type 1</th>\n",
              "      <th>Type 2</th>\n",
              "      <th>HP</th>\n",
              "      <th>Attack</th>\n",
              "      <th>Defense</th>\n",
              "      <th>Sp. Atk</th>\n",
              "      <th>Sp. Def</th>\n",
              "      <th>Speed</th>\n",
              "      <th>Generation</th>\n",
              "      <th>Legendary</th>\n",
              "    </tr>\n",
              "  </thead>\n",
              "  <tbody>\n",
              "    <tr>\n",
              "      <th>0</th>\n",
              "      <td>1</td>\n",
              "      <td>Bulbasaur</td>\n",
              "      <td>BULBASAUR</td>\n",
              "      <td>bulbasaur</td>\n",
              "      <td>Grass</td>\n",
              "      <td>Poison</td>\n",
              "      <td>45</td>\n",
              "      <td>49</td>\n",
              "      <td>49</td>\n",
              "      <td>65</td>\n",
              "      <td>65</td>\n",
              "      <td>45</td>\n",
              "      <td>1</td>\n",
              "      <td>False</td>\n",
              "    </tr>\n",
              "    <tr>\n",
              "      <th>1</th>\n",
              "      <td>2</td>\n",
              "      <td>Ivysaur</td>\n",
              "      <td>IVYSAUR</td>\n",
              "      <td>ivysaur</td>\n",
              "      <td>Grass</td>\n",
              "      <td>Poison</td>\n",
              "      <td>60</td>\n",
              "      <td>62</td>\n",
              "      <td>63</td>\n",
              "      <td>80</td>\n",
              "      <td>80</td>\n",
              "      <td>60</td>\n",
              "      <td>1</td>\n",
              "      <td>False</td>\n",
              "    </tr>\n",
              "  </tbody>\n",
              "</table>\n",
              "</div>\n",
              "      <button class=\"colab-df-convert\" onclick=\"convertToInteractive('df-64d253c9-a7ed-4f11-aeda-e7ba4352768e')\"\n",
              "              title=\"Convert this dataframe to an interactive table.\"\n",
              "              style=\"display:none;\">\n",
              "        \n",
              "  <svg xmlns=\"http://www.w3.org/2000/svg\" height=\"24px\"viewBox=\"0 0 24 24\"\n",
              "       width=\"24px\">\n",
              "    <path d=\"M0 0h24v24H0V0z\" fill=\"none\"/>\n",
              "    <path d=\"M18.56 5.44l.94 2.06.94-2.06 2.06-.94-2.06-.94-.94-2.06-.94 2.06-2.06.94zm-11 1L8.5 8.5l.94-2.06 2.06-.94-2.06-.94L8.5 2.5l-.94 2.06-2.06.94zm10 10l.94 2.06.94-2.06 2.06-.94-2.06-.94-.94-2.06-.94 2.06-2.06.94z\"/><path d=\"M17.41 7.96l-1.37-1.37c-.4-.4-.92-.59-1.43-.59-.52 0-1.04.2-1.43.59L10.3 9.45l-7.72 7.72c-.78.78-.78 2.05 0 2.83L4 21.41c.39.39.9.59 1.41.59.51 0 1.02-.2 1.41-.59l7.78-7.78 2.81-2.81c.8-.78.8-2.07 0-2.86zM5.41 20L4 18.59l7.72-7.72 1.47 1.35L5.41 20z\"/>\n",
              "  </svg>\n",
              "      </button>\n",
              "      \n",
              "  <style>\n",
              "    .colab-df-container {\n",
              "      display:flex;\n",
              "      flex-wrap:wrap;\n",
              "      gap: 12px;\n",
              "    }\n",
              "\n",
              "    .colab-df-convert {\n",
              "      background-color: #E8F0FE;\n",
              "      border: none;\n",
              "      border-radius: 50%;\n",
              "      cursor: pointer;\n",
              "      display: none;\n",
              "      fill: #1967D2;\n",
              "      height: 32px;\n",
              "      padding: 0 0 0 0;\n",
              "      width: 32px;\n",
              "    }\n",
              "\n",
              "    .colab-df-convert:hover {\n",
              "      background-color: #E2EBFA;\n",
              "      box-shadow: 0px 1px 2px rgba(60, 64, 67, 0.3), 0px 1px 3px 1px rgba(60, 64, 67, 0.15);\n",
              "      fill: #174EA6;\n",
              "    }\n",
              "\n",
              "    [theme=dark] .colab-df-convert {\n",
              "      background-color: #3B4455;\n",
              "      fill: #D2E3FC;\n",
              "    }\n",
              "\n",
              "    [theme=dark] .colab-df-convert:hover {\n",
              "      background-color: #434B5C;\n",
              "      box-shadow: 0px 1px 3px 1px rgba(0, 0, 0, 0.15);\n",
              "      filter: drop-shadow(0px 1px 2px rgba(0, 0, 0, 0.3));\n",
              "      fill: #FFFFFF;\n",
              "    }\n",
              "  </style>\n",
              "\n",
              "      <script>\n",
              "        const buttonEl =\n",
              "          document.querySelector('#df-64d253c9-a7ed-4f11-aeda-e7ba4352768e button.colab-df-convert');\n",
              "        buttonEl.style.display =\n",
              "          google.colab.kernel.accessAllowed ? 'block' : 'none';\n",
              "\n",
              "        async function convertToInteractive(key) {\n",
              "          const element = document.querySelector('#df-64d253c9-a7ed-4f11-aeda-e7ba4352768e');\n",
              "          const dataTable =\n",
              "            await google.colab.kernel.invokeFunction('convertToInteractive',\n",
              "                                                     [key], {});\n",
              "          if (!dataTable) return;\n",
              "\n",
              "          const docLinkHtml = 'Like what you see? Visit the ' +\n",
              "            '<a target=\"_blank\" href=https://colab.research.google.com/notebooks/data_table.ipynb>data table notebook</a>'\n",
              "            + ' to learn more about interactive tables.';\n",
              "          element.innerHTML = '';\n",
              "          dataTable['output_type'] = 'display_data';\n",
              "          await google.colab.output.renderOutput(dataTable, element);\n",
              "          const docLink = document.createElement('div');\n",
              "          docLink.innerHTML = docLinkHtml;\n",
              "          element.appendChild(docLink);\n",
              "        }\n",
              "      </script>\n",
              "    </div>\n",
              "  </div>\n",
              "  "
            ]
          },
          "metadata": {},
          "execution_count": 55
        }
      ]
    },
    {
      "cell_type": "code",
      "source": [
        "pokemon.isnull().sum()"
      ],
      "metadata": {
        "colab": {
          "base_uri": "https://localhost:8080/"
        },
        "id": "veRmnoJYwCvr",
        "outputId": "f0c0bb32-42d0-49d6-e8f3-3fb2eb4be9e4"
      },
      "execution_count": 56,
      "outputs": [
        {
          "output_type": "execute_result",
          "data": {
            "text/plain": [
              "Sn no           0\n",
              "Name            0\n",
              "Upper Name      0\n",
              "lower name      0\n",
              "Type 1          0\n",
              "Type 2        386\n",
              "HP              0\n",
              "Attack          0\n",
              "Defense         0\n",
              "Sp. Atk         0\n",
              "Sp. Def         0\n",
              "Speed           0\n",
              "Generation      0\n",
              "Legendary       0\n",
              "dtype: int64"
            ]
          },
          "metadata": {},
          "execution_count": 56
        }
      ]
    },
    {
      "cell_type": "code",
      "source": [
        "pokemon.isnull().any(axis=0)"
      ],
      "metadata": {
        "colab": {
          "base_uri": "https://localhost:8080/"
        },
        "id": "Mr2kwAI8wCsG",
        "outputId": "6b8072b2-73ec-4151-b0ec-9191a6c74c51"
      },
      "execution_count": 57,
      "outputs": [
        {
          "output_type": "execute_result",
          "data": {
            "text/plain": [
              "Sn no         False\n",
              "Name          False\n",
              "Upper Name    False\n",
              "lower name    False\n",
              "Type 1        False\n",
              "Type 2         True\n",
              "HP            False\n",
              "Attack        False\n",
              "Defense       False\n",
              "Sp. Atk       False\n",
              "Sp. Def       False\n",
              "Speed         False\n",
              "Generation    False\n",
              "Legendary     False\n",
              "dtype: bool"
            ]
          },
          "metadata": {},
          "execution_count": 57
        }
      ]
    },
    {
      "cell_type": "code",
      "source": [
        "pokemon.isnull().any(axis=1).sum()"
      ],
      "metadata": {
        "colab": {
          "base_uri": "https://localhost:8080/"
        },
        "id": "UUjpGvTLwCpE",
        "outputId": "f03faee2-8a50-4c48-a3ba-f82291f7862e"
      },
      "execution_count": 58,
      "outputs": [
        {
          "output_type": "execute_result",
          "data": {
            "text/plain": [
              "386"
            ]
          },
          "metadata": {},
          "execution_count": 58
        }
      ]
    },
    {
      "cell_type": "markdown",
      "source": [
        "sns.barplot function can be used to depict a summary of one quantitative variable against levels of a second qualitative variable."
      ],
      "metadata": {
        "id": "kebHrvQMw0-Z"
      }
    },
    {
      "cell_type": "code",
      "source": [
        "na_count=pokemon.isnull().sum()\n",
        "sns.barplot(x=na_count,y=na_count.index,color=base_color);"
      ],
      "metadata": {
        "colab": {
          "base_uri": "https://localhost:8080/",
          "height": 265
        },
        "id": "mWCXTyNewCmh",
        "outputId": "00c250eb-2fa7-45ba-daf6-8bfff19f912d"
      },
      "execution_count": 59,
      "outputs": [
        {
          "output_type": "display_data",
          "data": {
            "text/plain": [
              "<Figure size 432x288 with 1 Axes>"
            ],
            "image/png": "[encoded data removed]"
          },
          "metadata": {
            "needs_background": "light"
          }
        }
      ]
    },
    {
      "cell_type": "markdown",
      "source": [
        "**Pie Charts**\n",
        "\n",
        "Pie charts are used for plotting **relative frequencies** for levels of a qualitative variable.ie.Percentage \n",
        "\n",
        "In a pie chart, each category is indicated by a slice of a circle, with the area of each slice idicating the relative frequency of that category."
      ],
      "metadata": {
        "id": "Vo97yH9CxmMR"
      }
    },
    {
      "cell_type": "code",
      "source": [
        "pokemon.nunique()"
      ],
      "metadata": {
        "colab": {
          "base_uri": "https://localhost:8080/"
        },
        "id": "l6N9c20TwCju",
        "outputId": "ea335f19-97ac-47c3-f051-eca9f703ac88"
      },
      "execution_count": 60,
      "outputs": [
        {
          "output_type": "execute_result",
          "data": {
            "text/plain": [
              "Sn no         720\n",
              "Name          799\n",
              "Upper Name    799\n",
              "lower name    799\n",
              "Type 1         18\n",
              "Type 2         18\n",
              "HP             94\n",
              "Attack        111\n",
              "Defense       102\n",
              "Sp. Atk       105\n",
              "Sp. Def        92\n",
              "Speed         108\n",
              "Generation      6\n",
              "Legendary       2\n",
              "dtype: int64"
            ]
          },
          "metadata": {},
          "execution_count": 60
        }
      ]
    },
    {
      "cell_type": "code",
      "source": [
        "type_counts =pokemon[\"Type 1\"].value_counts()\n",
        "plt.pie(type_counts,labels=type_counts.index,startangle=90,counterclock=False)\n",
        "plt.axis(\"square\");"
      ],
      "metadata": {
        "colab": {
          "base_uri": "https://localhost:8080/",
          "height": 256
        },
        "id": "DEpvhU0BwChZ",
        "outputId": "85322b1c-3147-48bb-cd80-d09e9b5d75e8"
      },
      "execution_count": 61,
      "outputs": [
        {
          "output_type": "display_data",
          "data": {
            "text/plain": [
              "<Figure size 432x288 with 1 Axes>"
            ],
            "image/png": "[encoded data removed]"
          },
          "metadata": {}
        }
      ]
    },
    {
      "cell_type": "code",
      "source": [
        "plt.pie(type_counts, labels = type_counts.index, startangle = 90, counterclock = False,labeldistance = None)\n",
        "plt.legend()\n",
        "plt.axis('square');"
      ],
      "metadata": {
        "colab": {
          "base_uri": "https://localhost:8080/",
          "height": 309
        },
        "id": "6V1X_nEDwCeM",
        "outputId": "bce94278-2d57-4b0c-97eb-8cf50ddf1d26"
      },
      "execution_count": 62,
      "outputs": [
        {
          "output_type": "display_data",
          "data": {
            "text/plain": [
              "<Figure size 432x288 with 1 Axes>"
            ],
            "image/png": "[encoded data removed]"
          },
          "metadata": {}
        }
      ]
    },
    {
      "cell_type": "code",
      "source": [
        "plt.pie(type_counts,labels=type_counts.index,startangle=90,counterclock=False,labeldistance=None)\n",
        "#labeldistance: The radial distance at which pie labels are drawn.\n",
        "#If labeldistance is set to None, labels are not drawn, but are stored for use in legend()\n",
        "plt.legend(loc=0,bbox_to_anchor=(1,0.7,0.5,0.5))\n",
        "plt.axis(\"square\");"
      ],
      "metadata": {
        "id": "f304jKlCBFmu",
        "colab": {
          "base_uri": "https://localhost:8080/",
          "height": 304
        },
        "outputId": "31dbd553-27df-476d-df7b-10270e836136"
      },
      "execution_count": 63,
      "outputs": [
        {
          "output_type": "display_data",
          "data": {
            "text/plain": [
              "<Figure size 432x288 with 1 Axes>"
            ],
            "image/png": "[encoded data removed]"
          },
          "metadata": {}
        }
      ]
    },
    {
      "cell_type": "markdown",
      "source": [
        "A variant of the pie chart, the donut plot, is very similar except that the center of the circle has been removed.\n",
        "\n",
        "Some statistics might be reported in the hole of a donut plot to better make use of available space."
      ],
      "metadata": {
        "id": "Rt3lwM4Wz3m0"
      }
    },
    {
      "cell_type": "code",
      "source": [
        "plt.pie(type_counts, labels = type_counts.index, labeldistance = None, startangle = 90, counterclock = False, \n",
        "       wedgeprops = {'width':0.3})\n",
        "plt.legend(loc = 'best', bbox_to_anchor = (1, 0.7, 0.5, 0.5))\n",
        "plt.axis('square');"
      ],
      "metadata": {
        "id": "2O7rSWBn_Pew",
        "colab": {
          "base_uri": "https://localhost:8080/",
          "height": 304
        },
        "outputId": "3976d7c4-db55-4004-847d-dc1be32db247"
      },
      "execution_count": 64,
      "outputs": [
        {
          "output_type": "display_data",
          "data": {
            "text/plain": [
              "<Figure size 432x288 with 1 Axes>"
            ],
            "image/png": "[encoded data removed]"
          },
          "metadata": {}
        }
      ]
    },
    {
      "cell_type": "markdown",
      "source": [
        "Pie charts and donut plots are fairly limited in the range of scenarios where they can be used and they are more difficult to read.\n",
        "\n",
        "It's very difficult to get an accurate estimate of relative frequency using pie or donut plots alone especially if there are a lot of categories.\n",
        "\n",
        "**Qualitative variable represntation**\n",
        "1. **Bar charts**\n",
        "\n",
        "sns.countplot\n",
        "\n",
        "Used for plotting both absolute and relative frequencies.\n",
        "\n",
        "sns.barplot\n",
        "\n",
        "Used to plot a quantitative variable against the levels of a second qualitative variables.\n",
        "\n",
        "2. **Pie charts (& donut plot)**\n",
        "\n",
        "plt.pie\n",
        "Used for plotting relative frequencies for qualitative variables.\n",
        "This function requires the data to be in a summarized form."
      ],
      "metadata": {
        "id": "6eNeYMcd0Dxu"
      }
    },
    {
      "cell_type": "markdown",
      "source": [
        "**Histograms**"
      ],
      "metadata": {
        "id": "SojO9sFF593T"
      }
    },
    {
      "cell_type": "markdown",
      "source": [
        "1. Used for plotting quantitative variables.\n",
        "\n",
        "2. Due to the numeric nature of the data, bars in a histogram don't indicate counts on single values but instead count on value ranges.\n",
        "\n",
        "3. Values are grouped into continuous bins, and one bar for each bin is plotted depicting the number.\n",
        "\n",
        "4. Normally, bins include values on their left end, and exclude values on their right end, except for the rightmost bin edge."
      ],
      "metadata": {
        "id": "mXLEyg5f6Qcy"
      }
    },
    {
      "cell_type": "code",
      "source": [
        "pokemon.head(3)"
      ],
      "metadata": {
        "colab": {
          "base_uri": "https://localhost:8080/",
          "height": 188
        },
        "id": "igFlUeyN54Xg",
        "outputId": "426996b5-3ad5-42c2-b41b-5d74a4b42bb4"
      },
      "execution_count": 65,
      "outputs": [
        {
          "output_type": "execute_result",
          "data": {
            "text/plain": [
              "   Sn no       Name Upper Name lower name Type 1  Type 2  HP  Attack  Defense  \\\n",
              "0      1  Bulbasaur  BULBASAUR  bulbasaur  Grass  Poison  45      49       49   \n",
              "1      2    Ivysaur    IVYSAUR    ivysaur  Grass  Poison  60      62       63   \n",
              "2      3   Venusaur   VENUSAUR   venusaur  Grass  Poison  80      82       83   \n",
              "\n",
              "   Sp. Atk  Sp. Def  Speed  Generation  Legendary  \n",
              "0       65       65     45           1      False  \n",
              "1       80       80     60           1      False  \n",
              "2      100      100     80           1      False  "
            ],
            "text/html": [
              "\n",
              "  <div id=\"df-a2b9f4d9-c21f-42a5-ac91-ecfb15dff31c\">\n",
              "    <div class=\"colab-df-container\">\n",
              "      <div>\n",
              "<style scoped>\n",
              "    .dataframe tbody tr th:only-of-type {\n",
              "        vertical-align: middle;\n",
              "    }\n",
              "\n",
              "    .dataframe tbody tr th {\n",
              "        vertical-align: top;\n",
              "    }\n",
              "\n",
              "    .dataframe thead th {\n",
              "        text-align: right;\n",
              "    }\n",
              "</style>\n",
              "<table border=\"1\" class=\"dataframe\">\n",
              "  <thead>\n",
              "    <tr style=\"text-align: right;\">\n",
              "      <th></th>\n",
              "      <th>Sn no</th>\n",
              "      <th>Name</th>\n",
              "      <th>Upper Name</th>\n",
              "      <th>lower name</th>\n",
              "      <th>Type 1</th>\n",
              "      <th>Type 2</th>\n",
              "      <th>HP</th>\n",
              "      <th>Attack</th>\n",
              "      <th>Defense</th>\n",
              "      <th>Sp. Atk</th>\n",
              "      <th>Sp. Def</th>\n",
              "      <th>Speed</th>\n",
              "      <th>Generation</th>\n",
              "      <th>Legendary</th>\n",
              "    </tr>\n",
              "  </thead>\n",
              "  <tbody>\n",
              "    <tr>\n",
              "      <th>0</th>\n",
              "      <td>1</td>\n",
              "      <td>Bulbasaur</td>\n",
              "      <td>BULBASAUR</td>\n",
              "      <td>bulbasaur</td>\n",
              "      <td>Grass</td>\n",
              "      <td>Poison</td>\n",
              "      <td>45</td>\n",
              "      <td>49</td>\n",
              "      <td>49</td>\n",
              "      <td>65</td>\n",
              "      <td>65</td>\n",
              "      <td>45</td>\n",
              "      <td>1</td>\n",
              "      <td>False</td>\n",
              "    </tr>\n",
              "    <tr>\n",
              "      <th>1</th>\n",
              "      <td>2</td>\n",
              "      <td>Ivysaur</td>\n",
              "      <td>IVYSAUR</td>\n",
              "      <td>ivysaur</td>\n",
              "      <td>Grass</td>\n",
              "      <td>Poison</td>\n",
              "      <td>60</td>\n",
              "      <td>62</td>\n",
              "      <td>63</td>\n",
              "      <td>80</td>\n",
              "      <td>80</td>\n",
              "      <td>60</td>\n",
              "      <td>1</td>\n",
              "      <td>False</td>\n",
              "    </tr>\n",
              "    <tr>\n",
              "      <th>2</th>\n",
              "      <td>3</td>\n",
              "      <td>Venusaur</td>\n",
              "      <td>VENUSAUR</td>\n",
              "      <td>venusaur</td>\n",
              "      <td>Grass</td>\n",
              "      <td>Poison</td>\n",
              "      <td>80</td>\n",
              "      <td>82</td>\n",
              "      <td>83</td>\n",
              "      <td>100</td>\n",
              "      <td>100</td>\n",
              "      <td>80</td>\n",
              "      <td>1</td>\n",
              "      <td>False</td>\n",
              "    </tr>\n",
              "  </tbody>\n",
              "</table>\n",
              "</div>\n",
              "      <button class=\"colab-df-convert\" onclick=\"convertToInteractive('df-a2b9f4d9-c21f-42a5-ac91-ecfb15dff31c')\"\n",
              "              title=\"Convert this dataframe to an interactive table.\"\n",
              "              style=\"display:none;\">\n",
              "        \n",
              "  <svg xmlns=\"http://www.w3.org/2000/svg\" height=\"24px\"viewBox=\"0 0 24 24\"\n",
              "       width=\"24px\">\n",
              "    <path d=\"M0 0h24v24H0V0z\" fill=\"none\"/>\n",
              "    <path d=\"M18.56 5.44l.94 2.06.94-2.06 2.06-.94-2.06-.94-.94-2.06-.94 2.06-2.06.94zm-11 1L8.5 8.5l.94-2.06 2.06-.94-2.06-.94L8.5 2.5l-.94 2.06-2.06.94zm10 10l.94 2.06.94-2.06 2.06-.94-2.06-.94-.94-2.06-.94 2.06-2.06.94z\"/><path d=\"M17.41 7.96l-1.37-1.37c-.4-.4-.92-.59-1.43-.59-.52 0-1.04.2-1.43.59L10.3 9.45l-7.72 7.72c-.78.78-.78 2.05 0 2.83L4 21.41c.39.39.9.59 1.41.59.51 0 1.02-.2 1.41-.59l7.78-7.78 2.81-2.81c.8-.78.8-2.07 0-2.86zM5.41 20L4 18.59l7.72-7.72 1.47 1.35L5.41 20z\"/>\n",
              "  </svg>\n",
              "      </button>\n",
              "      \n",
              "  <style>\n",
              "    .colab-df-container {\n",
              "      display:flex;\n",
              "      flex-wrap:wrap;\n",
              "      gap: 12px;\n",
              "    }\n",
              "\n",
              "    .colab-df-convert {\n",
              "      background-color: #E8F0FE;\n",
              "      border: none;\n",
              "      border-radius: 50%;\n",
              "      cursor: pointer;\n",
              "      display: none;\n",
              "      fill: #1967D2;\n",
              "      height: 32px;\n",
              "      padding: 0 0 0 0;\n",
              "      width: 32px;\n",
              "    }\n",
              "\n",
              "    .colab-df-convert:hover {\n",
              "      background-color: #E2EBFA;\n",
              "      box-shadow: 0px 1px 2px rgba(60, 64, 67, 0.3), 0px 1px 3px 1px rgba(60, 64, 67, 0.15);\n",
              "      fill: #174EA6;\n",
              "    }\n",
              "\n",
              "    [theme=dark] .colab-df-convert {\n",
              "      background-color: #3B4455;\n",
              "      fill: #D2E3FC;\n",
              "    }\n",
              "\n",
              "    [theme=dark] .colab-df-convert:hover {\n",
              "      background-color: #434B5C;\n",
              "      box-shadow: 0px 1px 3px 1px rgba(0, 0, 0, 0.15);\n",
              "      filter: drop-shadow(0px 1px 2px rgba(0, 0, 0, 0.3));\n",
              "      fill: #FFFFFF;\n",
              "    }\n",
              "  </style>\n",
              "\n",
              "      <script>\n",
              "        const buttonEl =\n",
              "          document.querySelector('#df-a2b9f4d9-c21f-42a5-ac91-ecfb15dff31c button.colab-df-convert');\n",
              "        buttonEl.style.display =\n",
              "          google.colab.kernel.accessAllowed ? 'block' : 'none';\n",
              "\n",
              "        async function convertToInteractive(key) {\n",
              "          const element = document.querySelector('#df-a2b9f4d9-c21f-42a5-ac91-ecfb15dff31c');\n",
              "          const dataTable =\n",
              "            await google.colab.kernel.invokeFunction('convertToInteractive',\n",
              "                                                     [key], {});\n",
              "          if (!dataTable) return;\n",
              "\n",
              "          const docLinkHtml = 'Like what you see? Visit the ' +\n",
              "            '<a target=\"_blank\" href=https://colab.research.google.com/notebooks/data_table.ipynb>data table notebook</a>'\n",
              "            + ' to learn more about interactive tables.';\n",
              "          element.innerHTML = '';\n",
              "          dataTable['output_type'] = 'display_data';\n",
              "          await google.colab.output.renderOutput(dataTable, element);\n",
              "          const docLink = document.createElement('div');\n",
              "          docLink.innerHTML = docLinkHtml;\n",
              "          element.appendChild(docLink);\n",
              "        }\n",
              "      </script>\n",
              "    </div>\n",
              "  </div>\n",
              "  "
            ]
          },
          "metadata": {},
          "execution_count": 65
        }
      ]
    },
    {
      "cell_type": "code",
      "source": [
        "plt.hist(data=pokemon,x=\"Speed\");"
      ],
      "metadata": {
        "colab": {
          "base_uri": "https://localhost:8080/",
          "height": 265
        },
        "id": "irrfscFH54OH",
        "outputId": "88aca23f-6d98-47d0-96e0-d7759f25b22e"
      },
      "execution_count": 66,
      "outputs": [
        {
          "output_type": "display_data",
          "data": {
            "text/plain": [
              "<Figure size 432x288 with 1 Axes>"
            ],
            "image/png": "[encoded data removed]"
          },
          "metadata": {
            "needs_background": "light"
          }
        }
      ]
    },
    {
      "cell_type": "markdown",
      "source": [
        "The direct adjacency of the bars in a histogram emphasize the fact that the data takes on a continuous range of values."
      ],
      "metadata": {
        "id": "cRuw4y9p7lm1"
      }
    },
    {
      "cell_type": "code",
      "source": [
        "pokemon[\"Speed\"].plot(kind=\"hist\")"
      ],
      "metadata": {
        "colab": {
          "base_uri": "https://localhost:8080/",
          "height": 282
        },
        "id": "9EhJNKkW7jE3",
        "outputId": "d674f33f-f36f-418b-ad6e-371429f82de3"
      },
      "execution_count": 67,
      "outputs": [
        {
          "output_type": "execute_result",
          "data": {
            "text/plain": [
              "<matplotlib.axes._subplots.AxesSubplot at 0x7f6c7eb6a150>"
            ]
          },
          "metadata": {},
          "execution_count": 67
        },
        {
          "output_type": "display_data",
          "data": {
            "text/plain": [
              "<Figure size 432x288 with 1 Axes>"
            ],
            "image/png": "[encoded data removed]"
          },
          "metadata": {
            "needs_background": "light"
          }
        }
      ]
    },
    {
      "cell_type": "markdown",
      "source": [
        "By default, matplotlib will split the data into 10 bins which is usually too few to understand the distribution of the data.\n",
        "\n",
        "The number of bins can be changed through the bins parameter.\n",
        "\n",
        "bins : int or sequence or str, optional\n",
        "\n",
        "If bins is an integer, it defines the number of equal-width bins in the range.\n",
        "\n",
        "If bins is a sequence, it defines the bin edges, including the left edge of the first bin and the right edge of the last bin; in this case, bins may be unequally spaced. All but the last (righthand-most) bin is half-open. In other words, if bins is: [1, 2, 3, 4] then the first bin is [1, 2) (including 1, but excluding 2) and the second [2, 3). The last bin, however, is [3, 4], which includes 4."
      ],
      "metadata": {
        "id": "GKGHP-4J710A"
      }
    },
    {
      "cell_type": "code",
      "source": [
        "#higher number of bins reveals more details, but the bin boundaries are still awkward\n",
        "#Some bins cover more integer values than others\n",
        "plt.hist(data=pokemon,x=\"Speed\",bins=30);"
      ],
      "metadata": {
        "colab": {
          "base_uri": "https://localhost:8080/",
          "height": 265
        },
        "id": "unMNUC727jBN",
        "outputId": "b617bacb-1197-45dc-8670-f2c8af1603f8"
      },
      "execution_count": 68,
      "outputs": [
        {
          "output_type": "display_data",
          "data": {
            "text/plain": [
              "<Figure size 432x288 with 1 Axes>"
            ],
            "image/png": "[encoded data removed]"
          },
          "metadata": {
            "needs_background": "light"
          }
        }
      ]
    },
    {
      "cell_type": "code",
      "source": [
        "bins=np.arange(0,pokemon[\"Speed\"].max()+5,5)\n",
        "print(bins)\n",
        "plt.hist(data=pokemon,x=\"Speed\",bins=bins);"
      ],
      "metadata": {
        "colab": {
          "base_uri": "https://localhost:8080/",
          "height": 317
        },
        "id": "cYxVzy077i-f",
        "outputId": "e6fdc4b7-c040-4906-8f65-11d017da539b"
      },
      "execution_count": 69,
      "outputs": [
        {
          "output_type": "stream",
          "name": "stdout",
          "text": [
            "[  0   5  10  15  20  25  30  35  40  45  50  55  60  65  70  75  80  85\n",
            "  90  95 100 105 110 115 120 125 130 135 140 145 150 155 160 165 170 175\n",
            " 180]\n"
          ]
        },
        {
          "output_type": "display_data",
          "data": {
            "text/plain": [
              "<Figure size 432x288 with 1 Axes>"
            ],
            "image/png": "[encoded data removed]"
          },
          "metadata": {
            "needs_background": "light"
          }
        }
      ]
    },
    {
      "cell_type": "code",
      "source": [
        "bins = np.arange(0,pokemon[\"Speed\"].max()+1,1)\n",
        "plt.hist(data=pokemon,bins=bins,x=\"Speed\");"
      ],
      "metadata": {
        "colab": {
          "base_uri": "https://localhost:8080/",
          "height": 265
        },
        "id": "2C2xUPSf7i7_",
        "outputId": "84a574dc-bfae-4272-d0b3-afdb7af88d09"
      },
      "execution_count": 70,
      "outputs": [
        {
          "output_type": "display_data",
          "data": {
            "text/plain": [
              "<Figure size 432x288 with 1 Axes>"
            ],
            "image/png": "[encoded data removed]"
          },
          "metadata": {
            "needs_background": "light"
          }
        }
      ]
    },
    {
      "cell_type": "markdown",
      "source": [
        "If bin size is too large, then you may end up losing a lot of information about the overall distribution of data.\n",
        "\n",
        "On the opposite side, a too small bin size can introduce noise that can distract from the main trends in you data.\n",
        "\n",
        "Seaborn also has a function for creating histograms, sns.distplot(), which only takes as an argument the pandas Series containing all the data."
      ],
      "metadata": {
        "id": "O7xYY5wq-rsP"
      }
    },
    {
      "cell_type": "code",
      "source": [
        "sns.distplot(pokemon[\"Speed\"]);"
      ],
      "metadata": {
        "colab": {
          "base_uri": "https://localhost:8080/",
          "height": 334
        },
        "id": "fxWX-kav7i4p",
        "outputId": "eb43ba4b-fcf6-4f8c-8ce7-2cbc15225a73"
      },
      "execution_count": 71,
      "outputs": [
        {
          "output_type": "stream",
          "name": "stderr",
          "text": [
            "/usr/local/lib/python3.7/dist-packages/seaborn/distributions.py:2619: FutureWarning: `distplot` is a deprecated function and will be removed in a future version. Please adapt your code to use either `displot` (a figure-level function with similar flexibility) or `histplot` (an axes-level function for histograms).\n",
            "  warnings.warn(msg, FutureWarning)\n"
          ]
        },
        {
          "output_type": "display_data",
          "data": {
            "text/plain": [
              "<Figure size 432x288 with 1 Axes>"
            ],
            "image/png": "[encoded data removed]"
          },
          "metadata": {
            "needs_background": "light"
          }
        }
      ]
    },
    {
      "cell_type": "code",
      "source": [
        "#figure level function\n",
        "sns.displot(pokemon[\"Speed\"])"
      ],
      "metadata": {
        "colab": {
          "base_uri": "https://localhost:8080/",
          "height": 386
        },
        "id": "TRAbqG6B7i1y",
        "outputId": "ba803806-66bc-4e2d-99f1-2177341ee57a"
      },
      "execution_count": 72,
      "outputs": [
        {
          "output_type": "execute_result",
          "data": {
            "text/plain": [
              "<seaborn.axisgrid.FacetGrid at 0x7f6c82500290>"
            ]
          },
          "metadata": {},
          "execution_count": 72
        },
        {
          "output_type": "display_data",
          "data": {
            "text/plain": [
              "<Figure size 360x360 with 1 Axes>"
            ],
            "image/png": "[encoded data removed]"
          },
          "metadata": {
            "needs_background": "light"
          }
        }
      ]
    },
    {
      "cell_type": "code",
      "source": [
        "#axis level function\n",
        "sns.histplot(pokemon[\"Speed\"]);"
      ],
      "metadata": {
        "colab": {
          "base_uri": "https://localhost:8080/",
          "height": 279
        },
        "id": "nOUnAsxx7iy7",
        "outputId": "b5d5ae42-29d1-4cab-968d-555d5ca2c6c1"
      },
      "execution_count": 73,
      "outputs": [
        {
          "output_type": "display_data",
          "data": {
            "text/plain": [
              "<Figure size 432x288 with 1 Axes>"
            ],
            "image/png": "[encoded data removed]"
          },
          "metadata": {
            "needs_background": "light"
          }
        }
      ]
    },
    {
      "cell_type": "markdown",
      "source": [
        "In sns.distplot(), the dafault bin count is larger than in matplotlib (has a better bin-selection formula).\n",
        "\n",
        "A line has been plotted over the bars, and the y axis values are really small.\n",
        "\n",
        "The line is a density curve estimate of the data distribution, and the total area under the curve is set to be equal to 1."
      ],
      "metadata": {
        "id": "M6SUCcYa_fD2"
      }
    },
    {
      "cell_type": "code",
      "source": [
        "#Turn off the density curve\n",
        "sns.distplot(pokemon[\"Speed\"],kde=False)"
      ],
      "metadata": {
        "colab": {
          "base_uri": "https://localhost:8080/",
          "height": 351
        },
        "id": "8lfIX7WZ7iwZ",
        "outputId": "0b8b9c76-31af-49ac-9d3d-0d5071c4c266"
      },
      "execution_count": 74,
      "outputs": [
        {
          "output_type": "stream",
          "name": "stderr",
          "text": [
            "/usr/local/lib/python3.7/dist-packages/seaborn/distributions.py:2619: FutureWarning: `distplot` is a deprecated function and will be removed in a future version. Please adapt your code to use either `displot` (a figure-level function with similar flexibility) or `histplot` (an axes-level function for histograms).\n",
            "  warnings.warn(msg, FutureWarning)\n"
          ]
        },
        {
          "output_type": "execute_result",
          "data": {
            "text/plain": [
              "<matplotlib.axes._subplots.AxesSubplot at 0x7f6c7ed8f710>"
            ]
          },
          "metadata": {},
          "execution_count": 74
        },
        {
          "output_type": "display_data",
          "data": {
            "text/plain": [
              "<Figure size 432x288 with 1 Axes>"
            ],
            "image/png": "[encoded data removed]"
          },
          "metadata": {
            "needs_background": "light"
          }
        }
      ]
    },
    {
      "cell_type": "code",
      "source": [
        "bin_edges = np.arange(0,pokemon[\"Speed\"].max()+5,5)\n",
        "plt.figure(figsize=(15,5))\n",
        "plt.subplot(131)\n",
        "plt.hist(data=pokemon,x=\"Speed\",bins=bin_edges)\n",
        "plt.subplot(132)\n",
        "sns.distplot(pokemon[\"Speed\"],bins=bin_edges,kde=False)\n",
        "plt.subplot(133)\n",
        "sns.distplot(pokemon[\"Speed\"],kde=False,bins=bin_edges,hist_kws={\"alpha\":1});"
      ],
      "metadata": {
        "colab": {
          "base_uri": "https://localhost:8080/",
          "height": 334
        },
        "id": "qfVnSWkx7ity",
        "outputId": "055936a3-e1e6-4ad3-8796-40f403ca139f"
      },
      "execution_count": 75,
      "outputs": [
        {
          "output_type": "display_data",
          "data": {
            "text/plain": [
              "<Figure size 1080x360 with 3 Axes>"
            ],
            "image/png": "[encoded data removed]"
          },
          "metadata": {
            "needs_background": "light"
          }
        }
      ]
    },
    {
      "cell_type": "markdown",
      "source": [
        "**Figures, Axes, and Subplots**\n",
        "\n",
        "The base of a visualization in matplotlib is a figure object. Contained withing each figure object is one or more axes objects, each of which contains a number of other elements that represents each plot.\n",
        "\n",
        "We can explicitly set up the figure and axes objects."
      ],
      "metadata": {
        "id": "OsPGU-dYBFYg"
      }
    },
    {
      "cell_type": "code",
      "source": [
        "fig = plt.figure()\n",
        "ax = fig.add_axes([0.125,0.125,0.775,0.775])\n",
        "ax.hist(data=pokemon,x=\"Speed\");"
      ],
      "metadata": {
        "colab": {
          "base_uri": "https://localhost:8080/",
          "height": 271
        },
        "id": "17L4nFJw54ME",
        "outputId": "6a85d237-779f-40e8-924a-ad747b137a9b"
      },
      "execution_count": 76,
      "outputs": [
        {
          "output_type": "display_data",
          "data": {
            "text/plain": [
              "<Figure size 432x288 with 1 Axes>"
            ],
            "image/png": "[encoded data removed]"
          },
          "metadata": {
            "needs_background": "light"
          }
        }
      ]
    },
    {
      "cell_type": "markdown",
      "source": [
        "**fig.add_axes([left, bottom, width, height])** requires a list of arguments specifying the dimensions of the axes. The first two elements of the list specify the position of the lower left hand corner of the axes. The other two elements specify the axes width and height in relation to the figure size, respectively.\n",
        "\n",
        "To use axes object with seaborn, seaborn function usually have an ax parameter to specify upon which axes a plot will be drawn."
      ],
      "metadata": {
        "id": "Jrs-J4CvB5_v"
      }
    },
    {
      "cell_type": "code",
      "source": [
        "fig = plt.figure()\n",
        "ax = fig.add_axes([0,0,1,1])\n",
        "sns.countplot(data = pokemon, x = 'Generation', ax = ax, color = base_color);"
      ],
      "metadata": {
        "colab": {
          "base_uri": "https://localhost:8080/",
          "height": 350
        },
        "id": "copfJzbf54IJ",
        "outputId": "621194e8-4ca3-4466-d6e4-7766dd98a9a7"
      },
      "execution_count": 77,
      "outputs": [
        {
          "output_type": "display_data",
          "data": {
            "text/plain": [
              "<Figure size 432x288 with 1 Axes>"
            ],
            "image/png": "[encoded data removed]"
          },
          "metadata": {
            "needs_background": "light"
          }
        }
      ]
    },
    {
      "cell_type": "markdown",
      "source": [
        "In the above case, there was no purpose to go through the figure and axes creation steps. And indeed, in most cases, you can just use the basic matplotlib and seaborn functions as is. Each function targets a figure or axes, and they will automatically use the most recent figure or axes worked with."
      ],
      "metadata": {
        "id": "w9aPe6CgCQUn"
      }
    },
    {
      "cell_type": "code",
      "source": [
        "fig = plt.figure(facecolor = 'grey', figsize = (1,1))\n",
        "ax = fig.add_axes([0.125, 0.125, 0.775, 0.775])"
      ],
      "metadata": {
        "colab": {
          "base_uri": "https://localhost:8080/",
          "height": 108
        },
        "id": "LzGbSXeK54Fc",
        "outputId": "2a54eb9a-149f-4e18-a927-3d1f29cb388a"
      },
      "execution_count": 78,
      "outputs": [
        {
          "output_type": "display_data",
          "data": {
            "text/plain": [
              "<Figure size 72x72 with 1 Axes>"
            ],
            "image/png": "[encoded data removed]"
          },
          "metadata": {}
        }
      ]
    },
    {
      "cell_type": "code",
      "source": [
        "plt.figure(figsize = [10, 5])\n",
        "'''Creates a new figure object without assigning any variable to return the function's output.\n",
        "Matplotlib and seaborn functions use the most recent figure or axes objects worked with. So any further plotting calls that\n",
        "need a figure object will refer to that figure as the active one'''\n",
        "\n",
        "plt.subplot(1,2,1)\n",
        "'''Creates a new axes in our figure. The first two arguments say to divide the figure into one row and two columns, and the\n",
        "third argument says to create a new axes in the first slot.'''\n",
        "\n",
        "bin_edges = np.arange(0, pokemon['Speed'].max() + 5, 5)\n",
        "plt.hist(data = pokemon, x = 'Speed', bins = bin_edges, color = base_color);\n",
        "plt.subplot(1,2,2)\n",
        "bin_edges = np.arange(0, pokemon['Speed'].max() + 1, 1)\n",
        "plt.hist(data = pokemon, x = 'Speed', bins = bin_edges, color = base_color);"
      ],
      "metadata": {
        "id": "vf2JOArv_PmF",
        "colab": {
          "base_uri": "https://localhost:8080/",
          "height": 320
        },
        "outputId": "aac50a96-fd5c-48d7-ff5d-389cb4149c03"
      },
      "execution_count": 79,
      "outputs": [
        {
          "output_type": "display_data",
          "data": {
            "text/plain": [
              "<Figure size 720x360 with 2 Axes>"
            ],
            "image/png": "[encoded data removed]"
          },
          "metadata": {
            "needs_background": "light"
          }
        }
      ]
    },
    {
      "cell_type": "markdown",
      "source": [
        "1. Get a list of all axes in a figure\n",
        "\n",
        "plt.get_axes()\n",
        "2. Retrieve the curret axes\n",
        "\n",
        "plt.gca()\n",
        "3. Set a particular axes as the active one\n",
        "\n",
        "plt.sca()\n",
        "4. Add an axes to a figure object\n",
        "\n",
        "fig.add_axes\n",
        "5. Add a subplot to a figure object\n",
        "\n",
        "fig.add_subplot\n",
        "\n",
        "plt.subplot\n",
        "6. Create a new figure with a bunch of subplots\n",
        "\n",
        "fig, axes = plt.subplots(3,4, figsize = (15, 15)) Creates one figure object, and a grid of 3 x 4 grid of subplots (12 axes)\n",
        "\n",
        "7. Alter the dimensions of a figure object after it has already been created\n",
        "\n",
        "fig.set_figwidth(10)\n",
        "\n",
        "fig.set_figheight(10)\n",
        "\n",
        "**fig.add_axes() vs fig.add_subplot()**\n",
        "\n",
        "https://stackoverflow.com/questions/43326680/what-are-the-differences-between-add-axes-and-add-subplot/43330553"
      ],
      "metadata": {
        "id": "d9cCgdGOCyfw"
      }
    },
    {
      "cell_type": "code",
      "source": [
        "fig, axes = plt.subplots(3,4)\n",
        "for i in range(len(fig.get_axes())):\n",
        "    axes = axes.flatten()\n",
        "    #flatten reshape the 3 x 4 array into a 12-element vector\n",
        "    ax = plt.sca(axes[i])\n",
        "    plt.text(0.5, 0.5, i + 1)"
      ],
      "metadata": {
        "colab": {
          "base_uri": "https://localhost:8080/",
          "height": 269
        },
        "id": "LQZ0gtsMCX6x",
        "outputId": "e35a4b52-7120-468e-e5ea-6a1a67b16e04"
      },
      "execution_count": 80,
      "outputs": [
        {
          "output_type": "display_data",
          "data": {
            "text/plain": [
              "<Figure size 432x288 with 12 Axes>"
            ],
            "image/png": "[encoded data removed]"
          },
          "metadata": {
            "needs_background": "light"
          }
        }
      ]
    },
    {
      "cell_type": "code",
      "source": [
        "fig, axes = plt.subplots(3,4)\n",
        "for i in range(len(fig.get_axes())):\n",
        "    plt.sca(fig.get_axes()[i])\n",
        "    plt.text(0.5, 0.5, i+1)"
      ],
      "metadata": {
        "colab": {
          "base_uri": "https://localhost:8080/",
          "height": 269
        },
        "id": "1vc2M55VEBI0",
        "outputId": "23d15fd2-615a-46a6-f189-4f6a215f52bd"
      },
      "execution_count": 81,
      "outputs": [
        {
          "output_type": "display_data",
          "data": {
            "text/plain": [
              "<Figure size 432x288 with 12 Axes>"
            ],
            "image/png": "[encoded data removed]"
          },
          "metadata": {
            "needs_background": "light"
          }
        }
      ]
    },
    {
      "cell_type": "code",
      "source": [
        "fig, axes = plt.subplots(3,4)\n",
        "for i in [0, 1, 2]:\n",
        "    for j in [0, 1, 2, 3]:\n",
        "        ax = plt.sca(axes[i][j])\n",
        "        plt.text(0.5, 0.5, i)"
      ],
      "metadata": {
        "colab": {
          "base_uri": "https://localhost:8080/",
          "height": 269
        },
        "id": "00dCK5PxCX9R",
        "outputId": "121ffac6-0d08-4fe9-f81e-289e61dcb0b2"
      },
      "execution_count": 82,
      "outputs": [
        {
          "output_type": "display_data",
          "data": {
            "text/plain": [
              "<Figure size 432x288 with 12 Axes>"
            ],
            "image/png": "[encoded data removed]"
          },
          "metadata": {
            "needs_background": "light"
          }
        }
      ]
    },
    {
      "cell_type": "markdown",
      "source": [
        "**Choosing a Plot for Discrete Data**\n",
        "\n",
        "If you want to plot a discrete quantitative variable, it is possible to select either a histogram or a bar chart to depict the data.\n",
        "\n",
        "The histogram is the most immediate choice since the data is numeric."
      ],
      "metadata": {
        "id": "l3t1-CvuEn7c"
      }
    },
    {
      "cell_type": "code",
      "source": [
        "die_rolls = pd.Series(np.random.randint(1,13, size = 100))\n",
        "bin_edges = np.arange(1,12+1, 1)\n",
        "plt.hist(die_rolls, bins = bin_edges);"
      ],
      "metadata": {
        "colab": {
          "base_uri": "https://localhost:8080/",
          "height": 265
        },
        "id": "PDGjbH-QCYAT",
        "outputId": "62771a76-89a7-4885-e390-bf4eaa6b7aff"
      },
      "execution_count": 83,
      "outputs": [
        {
          "output_type": "display_data",
          "data": {
            "text/plain": [
              "<Figure size 432x288 with 1 Axes>"
            ],
            "image/png": "[encoded data removed]"
          },
          "metadata": {
            "needs_background": "light"
          }
        }
      ]
    },
    {
      "cell_type": "code",
      "source": [
        "plt.figure(figsize = (10,5))\n",
        "plt.subplot(1,2,1)\n",
        "bin_edges = np.arange(1, 12 + 1.1, 1)\n",
        "plt.xticks(np.arange(1,13,1))\n",
        "plt.hist(die_rolls, bins = bin_edges)\n",
        "plt.subplot(1,2,2)\n",
        "bin_edges = np.arange(0.5, 12.5 + 1, 1)\n",
        "plt.hist(die_rolls, bins = bin_edges)\n",
        "plt.xticks(np.arange(1,13, 1));"
      ],
      "metadata": {
        "colab": {
          "base_uri": "https://localhost:8080/",
          "height": 320
        },
        "id": "yEIacvaqCYCk",
        "outputId": "8f7d5668-9e63-4a33-b956-585b4076083d"
      },
      "execution_count": 84,
      "outputs": [
        {
          "output_type": "display_data",
          "data": {
            "text/plain": [
              "<Figure size 720x360 with 2 Axes>"
            ],
            "image/png": "[encoded data removed]"
          },
          "metadata": {
            "needs_background": "light"
          }
        }
      ]
    },
    {
      "cell_type": "code",
      "source": [
        "plt.figure(figsize = [10, 7])\n",
        "plt.subplot(2,2,1)\n",
        "bin_edges = np.arange(1, 12 + 1.1, 1)\n",
        "plt.hist(die_rolls, bins = bin_edges)\n",
        "plt.xticks(np.arange(1,12 + 1,1))\n",
        "plt.subplot(2,2,2)\n",
        "bin_edges = np.arange(0.5, 12.5 + 1, 1)\n",
        "plt.hist(die_rolls, bins = bin_edges)\n",
        "plt.xticks(np.arange(1,12 + 1, 1))\n",
        "plt.subplot(2,2,3)\n",
        "in_edges = np.arange(0.5, 12.5 + 1, 1)\n",
        "plt.hist(die_rolls, bins = bin_edges, rwidth = 0.8)\n",
        "#rwidth: the width of the bar as a fraction of the bin width\n",
        "plt.xticks(np.arange(1,12 + 1, 1))\n",
        "plt.subplot(2,2,4)\n",
        "sns.countplot(die_rolls, color = base_color);"
      ],
      "metadata": {
        "colab": {
          "base_uri": "https://localhost:8080/",
          "height": 483
        },
        "id": "zq9aZ7GXCYEx",
        "outputId": "eb02ca68-aa13-496a-e60b-72a582352544"
      },
      "execution_count": 85,
      "outputs": [
        {
          "output_type": "stream",
          "name": "stderr",
          "text": [
            "/usr/local/lib/python3.7/dist-packages/seaborn/_decorators.py:43: FutureWarning: Pass the following variable as a keyword arg: x. From version 0.12, the only valid positional argument will be `data`, and passing other arguments without an explicit keyword will result in an error or misinterpretation.\n",
            "  FutureWarning\n"
          ]
        },
        {
          "output_type": "display_data",
          "data": {
            "text/plain": [
              "<Figure size 720x504 with 4 Axes>"
            ],
            "image/png": "[encoded data removed]"
          },
          "metadata": {
            "needs_background": "light"
          }
        }
      ]
    },
    {
      "cell_type": "code",
      "source": [
        "bin_edges = np.arange(1,13+1, 1)\n",
        "sns.histplot(die_rolls, bins = bin_edges)\n",
        "plt.xticks(np.arange(1.5,13.5,1), np.arange(1,13,1));"
      ],
      "metadata": {
        "colab": {
          "base_uri": "https://localhost:8080/",
          "height": 265
        },
        "id": "7_n1yTvXCYHx",
        "outputId": "9a832e35-026c-4258-f2c2-e1334bbe7e71"
      },
      "execution_count": 86,
      "outputs": [
        {
          "output_type": "display_data",
          "data": {
            "text/plain": [
              "<Figure size 432x288 with 1 Axes>"
            ],
            "image/png": "[encoded data removed]"
          },
          "metadata": {
            "needs_background": "light"
          }
        }
      ]
    },
    {
      "cell_type": "markdown",
      "source": [
        "By adding gaps between the bars, you emphasize the fact that the data is discrete in nature.\n",
        "\n",
        "\n",
        "For continuous numeric data, you shouldn't make use of the rwidth parameter since the gaps imply discreteness of values.\n",
        "\n",
        "\n",
        "Be careful about using sns.countplot() function to plot the distribution of a discrete numeric variable as bars, since each unique numeric value will get a bar regardless of the spacing between bars.\n",
        "\n",
        "\n",
        "If your data is discrete numeric, you shouldn't probably consider either of the above two variants unless the number of unique values is small enough to allow for the half unit shift or discrete bars to be interpretable.\n",
        "\n",
        "\n",
        "If you have a large number of unique values over a large enough range, it's better to stick with the standard histogram."
      ],
      "metadata": {
        "id": "cnvg9ubtFOPm"
      }
    },
    {
      "cell_type": "markdown",
      "source": [
        "**Descriptive Statistics, Outliers, and Axis Limits**"
      ],
      "metadata": {
        "id": "fopEoeYPjqve"
      }
    },
    {
      "cell_type": "markdown",
      "source": [
        "Visualizations gives you insights into the data that you can't get from descriptive statistics. It allows you to understand the data faster than the statistics would be able to allow.\n",
        "\n",
        "Plots can also highlight areas of the data where we need to perform further inspection.\n",
        "\n",
        "In a histogram, one of the most salient bits of information that you can observe is whether or not there are outliers in your data.\n",
        "\n",
        "If you have a highly skewed data, you might want to change the range of the data plotted in order to zoom into parts that are more interesting.\n",
        "\n",
        "You can change a histogram's axis limits through plt.xlim() function call. This function takes a tuple of two numbers specifying the upper and lower bounds of the x axis range."
      ],
      "metadata": {
        "id": "RMTUpZAsjvA9"
      }
    },
    {
      "cell_type": "code",
      "source": [
        "pokemon.head()"
      ],
      "metadata": {
        "colab": {
          "base_uri": "https://localhost:8080/",
          "height": 285
        },
        "id": "w9VqNrDkVZZM",
        "outputId": "ef973dd4-3dbd-499e-f852-b2905883de5c"
      },
      "execution_count": 87,
      "outputs": [
        {
          "output_type": "execute_result",
          "data": {
            "text/plain": [
              "   Sn no                   Name             Upper Name             lower name  \\\n",
              "0      1              Bulbasaur              BULBASAUR              bulbasaur   \n",
              "1      2                Ivysaur                IVYSAUR                ivysaur   \n",
              "2      3               Venusaur               VENUSAUR               venusaur   \n",
              "3      3  VenusaurMega Venusaur  VENUSAURMEGA VENUSAUR  venusaurmega venusaur   \n",
              "4      4             Charmander             CHARMANDER             charmander   \n",
              "\n",
              "  Type 1  Type 2  HP  Attack  Defense  Sp. Atk  Sp. Def  Speed  Generation  \\\n",
              "0  Grass  Poison  45      49       49       65       65     45           1   \n",
              "1  Grass  Poison  60      62       63       80       80     60           1   \n",
              "2  Grass  Poison  80      82       83      100      100     80           1   \n",
              "3  Grass  Poison  80     100      123      122      120     80           1   \n",
              "4   Fire     NaN  39      52       43       60       50     65           1   \n",
              "\n",
              "   Legendary  \n",
              "0      False  \n",
              "1      False  \n",
              "2      False  \n",
              "3      False  \n",
              "4      False  "
            ],
            "text/html": [
              "\n",
              "  <div id=\"df-9788f3aa-05c9-42dc-ab7f-e452ab717398\">\n",
              "    <div class=\"colab-df-container\">\n",
              "      <div>\n",
              "<style scoped>\n",
              "    .dataframe tbody tr th:only-of-type {\n",
              "        vertical-align: middle;\n",
              "    }\n",
              "\n",
              "    .dataframe tbody tr th {\n",
              "        vertical-align: top;\n",
              "    }\n",
              "\n",
              "    .dataframe thead th {\n",
              "        text-align: right;\n",
              "    }\n",
              "</style>\n",
              "<table border=\"1\" class=\"dataframe\">\n",
              "  <thead>\n",
              "    <tr style=\"text-align: right;\">\n",
              "      <th></th>\n",
              "      <th>Sn no</th>\n",
              "      <th>Name</th>\n",
              "      <th>Upper Name</th>\n",
              "      <th>lower name</th>\n",
              "      <th>Type 1</th>\n",
              "      <th>Type 2</th>\n",
              "      <th>HP</th>\n",
              "      <th>Attack</th>\n",
              "      <th>Defense</th>\n",
              "      <th>Sp. Atk</th>\n",
              "      <th>Sp. Def</th>\n",
              "      <th>Speed</th>\n",
              "      <th>Generation</th>\n",
              "      <th>Legendary</th>\n",
              "    </tr>\n",
              "  </thead>\n",
              "  <tbody>\n",
              "    <tr>\n",
              "      <th>0</th>\n",
              "      <td>1</td>\n",
              "      <td>Bulbasaur</td>\n",
              "      <td>BULBASAUR</td>\n",
              "      <td>bulbasaur</td>\n",
              "      <td>Grass</td>\n",
              "      <td>Poison</td>\n",
              "      <td>45</td>\n",
              "      <td>49</td>\n",
              "      <td>49</td>\n",
              "      <td>65</td>\n",
              "      <td>65</td>\n",
              "      <td>45</td>\n",
              "      <td>1</td>\n",
              "      <td>False</td>\n",
              "    </tr>\n",
              "    <tr>\n",
              "      <th>1</th>\n",
              "      <td>2</td>\n",
              "      <td>Ivysaur</td>\n",
              "      <td>IVYSAUR</td>\n",
              "      <td>ivysaur</td>\n",
              "      <td>Grass</td>\n",
              "      <td>Poison</td>\n",
              "      <td>60</td>\n",
              "      <td>62</td>\n",
              "      <td>63</td>\n",
              "      <td>80</td>\n",
              "      <td>80</td>\n",
              "      <td>60</td>\n",
              "      <td>1</td>\n",
              "      <td>False</td>\n",
              "    </tr>\n",
              "    <tr>\n",
              "      <th>2</th>\n",
              "      <td>3</td>\n",
              "      <td>Venusaur</td>\n",
              "      <td>VENUSAUR</td>\n",
              "      <td>venusaur</td>\n",
              "      <td>Grass</td>\n",
              "      <td>Poison</td>\n",
              "      <td>80</td>\n",
              "      <td>82</td>\n",
              "      <td>83</td>\n",
              "      <td>100</td>\n",
              "      <td>100</td>\n",
              "      <td>80</td>\n",
              "      <td>1</td>\n",
              "      <td>False</td>\n",
              "    </tr>\n",
              "    <tr>\n",
              "      <th>3</th>\n",
              "      <td>3</td>\n",
              "      <td>VenusaurMega Venusaur</td>\n",
              "      <td>VENUSAURMEGA VENUSAUR</td>\n",
              "      <td>venusaurmega venusaur</td>\n",
              "      <td>Grass</td>\n",
              "      <td>Poison</td>\n",
              "      <td>80</td>\n",
              "      <td>100</td>\n",
              "      <td>123</td>\n",
              "      <td>122</td>\n",
              "      <td>120</td>\n",
              "      <td>80</td>\n",
              "      <td>1</td>\n",
              "      <td>False</td>\n",
              "    </tr>\n",
              "    <tr>\n",
              "      <th>4</th>\n",
              "      <td>4</td>\n",
              "      <td>Charmander</td>\n",
              "      <td>CHARMANDER</td>\n",
              "      <td>charmander</td>\n",
              "      <td>Fire</td>\n",
              "      <td>NaN</td>\n",
              "      <td>39</td>\n",
              "      <td>52</td>\n",
              "      <td>43</td>\n",
              "      <td>60</td>\n",
              "      <td>50</td>\n",
              "      <td>65</td>\n",
              "      <td>1</td>\n",
              "      <td>False</td>\n",
              "    </tr>\n",
              "  </tbody>\n",
              "</table>\n",
              "</div>\n",
              "      <button class=\"colab-df-convert\" onclick=\"convertToInteractive('df-9788f3aa-05c9-42dc-ab7f-e452ab717398')\"\n",
              "              title=\"Convert this dataframe to an interactive table.\"\n",
              "              style=\"display:none;\">\n",
              "        \n",
              "  <svg xmlns=\"http://www.w3.org/2000/svg\" height=\"24px\"viewBox=\"0 0 24 24\"\n",
              "       width=\"24px\">\n",
              "    <path d=\"M0 0h24v24H0V0z\" fill=\"none\"/>\n",
              "    <path d=\"M18.56 5.44l.94 2.06.94-2.06 2.06-.94-2.06-.94-.94-2.06-.94 2.06-2.06.94zm-11 1L8.5 8.5l.94-2.06 2.06-.94-2.06-.94L8.5 2.5l-.94 2.06-2.06.94zm10 10l.94 2.06.94-2.06 2.06-.94-2.06-.94-.94-2.06-.94 2.06-2.06.94z\"/><path d=\"M17.41 7.96l-1.37-1.37c-.4-.4-.92-.59-1.43-.59-.52 0-1.04.2-1.43.59L10.3 9.45l-7.72 7.72c-.78.78-.78 2.05 0 2.83L4 21.41c.39.39.9.59 1.41.59.51 0 1.02-.2 1.41-.59l7.78-7.78 2.81-2.81c.8-.78.8-2.07 0-2.86zM5.41 20L4 18.59l7.72-7.72 1.47 1.35L5.41 20z\"/>\n",
              "  </svg>\n",
              "      </button>\n",
              "      \n",
              "  <style>\n",
              "    .colab-df-container {\n",
              "      display:flex;\n",
              "      flex-wrap:wrap;\n",
              "      gap: 12px;\n",
              "    }\n",
              "\n",
              "    .colab-df-convert {\n",
              "      background-color: #E8F0FE;\n",
              "      border: none;\n",
              "      border-radius: 50%;\n",
              "      cursor: pointer;\n",
              "      display: none;\n",
              "      fill: #1967D2;\n",
              "      height: 32px;\n",
              "      padding: 0 0 0 0;\n",
              "      width: 32px;\n",
              "    }\n",
              "\n",
              "    .colab-df-convert:hover {\n",
              "      background-color: #E2EBFA;\n",
              "      box-shadow: 0px 1px 2px rgba(60, 64, 67, 0.3), 0px 1px 3px 1px rgba(60, 64, 67, 0.15);\n",
              "      fill: #174EA6;\n",
              "    }\n",
              "\n",
              "    [theme=dark] .colab-df-convert {\n",
              "      background-color: #3B4455;\n",
              "      fill: #D2E3FC;\n",
              "    }\n",
              "\n",
              "    [theme=dark] .colab-df-convert:hover {\n",
              "      background-color: #434B5C;\n",
              "      box-shadow: 0px 1px 3px 1px rgba(0, 0, 0, 0.15);\n",
              "      filter: drop-shadow(0px 1px 2px rgba(0, 0, 0, 0.3));\n",
              "      fill: #FFFFFF;\n",
              "    }\n",
              "  </style>\n",
              "\n",
              "      <script>\n",
              "        const buttonEl =\n",
              "          document.querySelector('#df-9788f3aa-05c9-42dc-ab7f-e452ab717398 button.colab-df-convert');\n",
              "        buttonEl.style.display =\n",
              "          google.colab.kernel.accessAllowed ? 'block' : 'none';\n",
              "\n",
              "        async function convertToInteractive(key) {\n",
              "          const element = document.querySelector('#df-9788f3aa-05c9-42dc-ab7f-e452ab717398');\n",
              "          const dataTable =\n",
              "            await google.colab.kernel.invokeFunction('convertToInteractive',\n",
              "                                                     [key], {});\n",
              "          if (!dataTable) return;\n",
              "\n",
              "          const docLinkHtml = 'Like what you see? Visit the ' +\n",
              "            '<a target=\"_blank\" href=https://colab.research.google.com/notebooks/data_table.ipynb>data table notebook</a>'\n",
              "            + ' to learn more about interactive tables.';\n",
              "          element.innerHTML = '';\n",
              "          dataTable['output_type'] = 'display_data';\n",
              "          await google.colab.output.renderOutput(dataTable, element);\n",
              "          const docLink = document.createElement('div');\n",
              "          docLink.innerHTML = docLinkHtml;\n",
              "          element.appendChild(docLink);\n",
              "        }\n",
              "      </script>\n",
              "    </div>\n",
              "  </div>\n",
              "  "
            ]
          },
          "metadata": {},
          "execution_count": 87
        }
      ]
    },
    {
      "cell_type": "code",
      "source": [
        "plt.figure(figsize=(10,5))\n",
        "plt.subplot(121)\n",
        "bin_edges= np.arange(0,pokemon[\"Attack\"].max()+0.5,0.5)\n",
        "plt.hist(data=pokemon,x=\"Attack\",bins=bin_edges)\n",
        "plt.subplot(122)\n",
        "bin = np.arange(0,pokemon[\"Attack\"].max()+0.2,0.2)\n",
        "plt.hist(data=pokemon,x=\"Attack\",bins=bin)\n",
        "plt.xlim((0,6))\n",
        "plt.show()"
      ],
      "metadata": {
        "colab": {
          "base_uri": "https://localhost:8080/",
          "height": 320
        },
        "id": "Z3kI8fYNVZVn",
        "outputId": "a4a6d626-0e0c-4c62-f937-f09cc8715563"
      },
      "execution_count": 88,
      "outputs": [
        {
          "output_type": "display_data",
          "data": {
            "text/plain": [
              "<Figure size 720x360 with 2 Axes>"
            ],
            "image/png": "[encoded data removed]"
          },
          "metadata": {
            "needs_background": "light"
          }
        }
      ]
    },
    {
      "cell_type": "markdown",
      "source": [
        "**Scales and Transformation**\n",
        "\n",
        "In some cases, you might want to change the scale of the plot (e.g., from a linear scale to a logarithmic scale).\n",
        "\n",
        "The standard assumption is that your data should be interpreted linearly, with differences being the salinet points of attention. In other cases, you might be interested in differences in terms of ratios or percentages.\n",
        "\n",
        "The classic example of a variable that might require a different scale is data dealing with finanace.\n",
        "\n",
        "Variables like this tend to have a range of values that crosses many orders of magnitude, and are usually skewed to the right."
      ],
      "metadata": {
        "id": "z390Bz_3DLni"
      }
    },
    {
      "cell_type": "code",
      "source": [
        "prices = pd.Series([4500, 7400, 8800, 9600, 11600, 12900, 14000, 19400, 25800, 26000, 27800, 35200, 41600, 43500, 56400,\n",
        "                   57900, 72500, 85000, 140000, 198000])"
      ],
      "metadata": {
        "id": "jLYZAHFUVZS_"
      },
      "execution_count": 89,
      "outputs": []
    },
    {
      "cell_type": "code",
      "source": [
        "plt.figure(figsize=(10,5))\n",
        "plt.subplot(121)\n",
        "plt.hist(prices)\n",
        "plt.subplot(122)\n",
        "bin_edges = np.arange(0,prices.max()+10000,10000)\n",
        "plt.hist(prices,bins=bin_edges)\n",
        "ticks = [40000,80000,120000,160000,200000]\n",
        "plt.xticks(ticks,['40k','80k','120k','160k','200k']);"
      ],
      "metadata": {
        "colab": {
          "base_uri": "https://localhost:8080/",
          "height": 320
        },
        "id": "7TfTLeaLVZQS",
        "outputId": "1a17fd75-dbb3-4a0d-d98d-4cfe87fe0f8c"
      },
      "execution_count": 90,
      "outputs": [
        {
          "output_type": "display_data",
          "data": {
            "text/plain": [
              "<Figure size 720x360 with 2 Axes>"
            ],
            "image/png": "[encoded data removed]"
          },
          "metadata": {
            "needs_background": "light"
          }
        }
      ]
    },
    {
      "cell_type": "markdown",
      "source": [
        "Using a linear scale resulted in an unevenly balanced plot with a lot of gaps in order to capture the highest values points.\n",
        "\n",
        "With a linear model in mind, it would be difficult for a predictor variable to capture small differences at the low end of the scale at the same time as large distances at the high end."
      ],
      "metadata": {
        "id": "yUIgea2AFQp7"
      }
    },
    {
      "cell_type": "code",
      "source": [
        "plt.figure(figsize=(10,10))\n",
        "plt.subplot(221)\n",
        "log_prices = np.log10(prices)\n",
        "plt.hist(log_prices)\n",
        "plt.gca().set_title(\"linear scale\");\n",
        "\n",
        "plt.subplot(222)\n",
        "min = log_prices.describe()[\"min\"]\n",
        "max = log_prices.describe()[\"max\"]\n",
        "print(min)\n",
        "print(max)\n",
        "bin_edges = np.arange(min,max+0.1,0.1)\n",
        "plt.hist(log_prices,bins=bin_edges)\n",
        "ticks = [5000,10000,20000,40000,80000,160000]\n",
        "tick_loc = [np.log10(i) for i in ticks]\n",
        "plt.xticks(tick_loc,[\"5k\",\"10k\",\"20k\",\"40k\",\" 80k\",\"160k\"])\n",
        "plt.gca().set_title(\"linear scale\");\n",
        "\n",
        "plt.subplot(223)\n",
        "plt.hist(prices)\n",
        "plt.xscale(\"log\")\n",
        "plt.gca().set_title(\"log scale\")\n",
        "\n",
        "plt.subplot(224)\n",
        "bin_edges = 10**np.arange(min,max+0.1,0.1)\n",
        "plt.hist(prices,bins=bin_edges)\n",
        "plt.xscale(\"log\")\n",
        "ticks = [5000,10000,20000,40000,80000,160000]\n",
        "plt.xticks(ticks,[\"5k\",\"10k\",\"20k\",\"40k\",\"80k\",\"160k\"])\n",
        "plt.gca().set_title(\"log scale\");"
      ],
      "metadata": {
        "id": "bakEUOQLVZNw",
        "colab": {
          "base_uri": "https://localhost:8080/",
          "height": 646
        },
        "outputId": "ec2a87a7-1747-4d4c-dc9d-d10443a1862f"
      },
      "execution_count": 91,
      "outputs": [
        {
          "output_type": "stream",
          "name": "stdout",
          "text": [
            "3.6532125137753435\n",
            "5.296665190261531\n"
          ]
        },
        {
          "output_type": "display_data",
          "data": {
            "text/plain": [
              "<Figure size 720x720 with 4 Axes>"
            ],
            "image/png": "[encoded data removed]"
          },
          "metadata": {
            "needs_background": "light"
          }
        }
      ]
    },
    {
      "cell_type": "markdown",
      "source": [
        "When a logarithimic scaling is applied, the distances on the scaled axis represents multiplicative differences rather than arithmetic differences.\n",
        "\n",
        "All the values in a variable must be positive in order to use a log transform."
      ],
      "metadata": {
        "id": "bS9_Br5z-Rp7"
      }
    },
    {
      "cell_type": "markdown",
      "source": [
        "\n",
        "An alternative approach to axis transformation is to start by applying the transformation directly to the data. When we plot the transform data on a linear scale, we get the exact same picture as the original data plotted on a log scale. However, to interpret the values, we need to mentally apply the inverse transformation."
      ],
      "metadata": {
        "id": "ND5gaPR6-U8K"
      }
    },
    {
      "cell_type": "code",
      "source": [
        "pokemon.head(3)"
      ],
      "metadata": {
        "colab": {
          "base_uri": "https://localhost:8080/",
          "height": 188
        },
        "id": "_Kage3Si-vHj",
        "outputId": "f79e2aed-41ea-41d0-87d7-f690be0e66c7"
      },
      "execution_count": 93,
      "outputs": [
        {
          "output_type": "execute_result",
          "data": {
            "text/plain": [
              "   Sn no       Name Upper Name lower name Type 1  Type 2  HP  Attack  Defense  \\\n",
              "0      1  Bulbasaur  BULBASAUR  bulbasaur  Grass  Poison  45      49       49   \n",
              "1      2    Ivysaur    IVYSAUR    ivysaur  Grass  Poison  60      62       63   \n",
              "2      3   Venusaur   VENUSAUR   venusaur  Grass  Poison  80      82       83   \n",
              "\n",
              "   Sp. Atk  Sp. Def  Speed  Generation  Legendary  \n",
              "0       65       65     45           1      False  \n",
              "1       80       80     60           1      False  \n",
              "2      100      100     80           1      False  "
            ],
            "text/html": [
              "\n",
              "  <div id=\"df-44c5dcde-5bda-4866-8278-da1a3e3abd14\">\n",
              "    <div class=\"colab-df-container\">\n",
              "      <div>\n",
              "<style scoped>\n",
              "    .dataframe tbody tr th:only-of-type {\n",
              "        vertical-align: middle;\n",
              "    }\n",
              "\n",
              "    .dataframe tbody tr th {\n",
              "        vertical-align: top;\n",
              "    }\n",
              "\n",
              "    .dataframe thead th {\n",
              "        text-align: right;\n",
              "    }\n",
              "</style>\n",
              "<table border=\"1\" class=\"dataframe\">\n",
              "  <thead>\n",
              "    <tr style=\"text-align: right;\">\n",
              "      <th></th>\n",
              "      <th>Sn no</th>\n",
              "      <th>Name</th>\n",
              "      <th>Upper Name</th>\n",
              "      <th>lower name</th>\n",
              "      <th>Type 1</th>\n",
              "      <th>Type 2</th>\n",
              "      <th>HP</th>\n",
              "      <th>Attack</th>\n",
              "      <th>Defense</th>\n",
              "      <th>Sp. Atk</th>\n",
              "      <th>Sp. Def</th>\n",
              "      <th>Speed</th>\n",
              "      <th>Generation</th>\n",
              "      <th>Legendary</th>\n",
              "    </tr>\n",
              "  </thead>\n",
              "  <tbody>\n",
              "    <tr>\n",
              "      <th>0</th>\n",
              "      <td>1</td>\n",
              "      <td>Bulbasaur</td>\n",
              "      <td>BULBASAUR</td>\n",
              "      <td>bulbasaur</td>\n",
              "      <td>Grass</td>\n",
              "      <td>Poison</td>\n",
              "      <td>45</td>\n",
              "      <td>49</td>\n",
              "      <td>49</td>\n",
              "      <td>65</td>\n",
              "      <td>65</td>\n",
              "      <td>45</td>\n",
              "      <td>1</td>\n",
              "      <td>False</td>\n",
              "    </tr>\n",
              "    <tr>\n",
              "      <th>1</th>\n",
              "      <td>2</td>\n",
              "      <td>Ivysaur</td>\n",
              "      <td>IVYSAUR</td>\n",
              "      <td>ivysaur</td>\n",
              "      <td>Grass</td>\n",
              "      <td>Poison</td>\n",
              "      <td>60</td>\n",
              "      <td>62</td>\n",
              "      <td>63</td>\n",
              "      <td>80</td>\n",
              "      <td>80</td>\n",
              "      <td>60</td>\n",
              "      <td>1</td>\n",
              "      <td>False</td>\n",
              "    </tr>\n",
              "    <tr>\n",
              "      <th>2</th>\n",
              "      <td>3</td>\n",
              "      <td>Venusaur</td>\n",
              "      <td>VENUSAUR</td>\n",
              "      <td>venusaur</td>\n",
              "      <td>Grass</td>\n",
              "      <td>Poison</td>\n",
              "      <td>80</td>\n",
              "      <td>82</td>\n",
              "      <td>83</td>\n",
              "      <td>100</td>\n",
              "      <td>100</td>\n",
              "      <td>80</td>\n",
              "      <td>1</td>\n",
              "      <td>False</td>\n",
              "    </tr>\n",
              "  </tbody>\n",
              "</table>\n",
              "</div>\n",
              "      <button class=\"colab-df-convert\" onclick=\"convertToInteractive('df-44c5dcde-5bda-4866-8278-da1a3e3abd14')\"\n",
              "              title=\"Convert this dataframe to an interactive table.\"\n",
              "              style=\"display:none;\">\n",
              "        \n",
              "  <svg xmlns=\"http://www.w3.org/2000/svg\" height=\"24px\"viewBox=\"0 0 24 24\"\n",
              "       width=\"24px\">\n",
              "    <path d=\"M0 0h24v24H0V0z\" fill=\"none\"/>\n",
              "    <path d=\"M18.56 5.44l.94 2.06.94-2.06 2.06-.94-2.06-.94-.94-2.06-.94 2.06-2.06.94zm-11 1L8.5 8.5l.94-2.06 2.06-.94-2.06-.94L8.5 2.5l-.94 2.06-2.06.94zm10 10l.94 2.06.94-2.06 2.06-.94-2.06-.94-.94-2.06-.94 2.06-2.06.94z\"/><path d=\"M17.41 7.96l-1.37-1.37c-.4-.4-.92-.59-1.43-.59-.52 0-1.04.2-1.43.59L10.3 9.45l-7.72 7.72c-.78.78-.78 2.05 0 2.83L4 21.41c.39.39.9.59 1.41.59.51 0 1.02-.2 1.41-.59l7.78-7.78 2.81-2.81c.8-.78.8-2.07 0-2.86zM5.41 20L4 18.59l7.72-7.72 1.47 1.35L5.41 20z\"/>\n",
              "  </svg>\n",
              "      </button>\n",
              "      \n",
              "  <style>\n",
              "    .colab-df-container {\n",
              "      display:flex;\n",
              "      flex-wrap:wrap;\n",
              "      gap: 12px;\n",
              "    }\n",
              "\n",
              "    .colab-df-convert {\n",
              "      background-color: #E8F0FE;\n",
              "      border: none;\n",
              "      border-radius: 50%;\n",
              "      cursor: pointer;\n",
              "      display: none;\n",
              "      fill: #1967D2;\n",
              "      height: 32px;\n",
              "      padding: 0 0 0 0;\n",
              "      width: 32px;\n",
              "    }\n",
              "\n",
              "    .colab-df-convert:hover {\n",
              "      background-color: #E2EBFA;\n",
              "      box-shadow: 0px 1px 2px rgba(60, 64, 67, 0.3), 0px 1px 3px 1px rgba(60, 64, 67, 0.15);\n",
              "      fill: #174EA6;\n",
              "    }\n",
              "\n",
              "    [theme=dark] .colab-df-convert {\n",
              "      background-color: #3B4455;\n",
              "      fill: #D2E3FC;\n",
              "    }\n",
              "\n",
              "    [theme=dark] .colab-df-convert:hover {\n",
              "      background-color: #434B5C;\n",
              "      box-shadow: 0px 1px 3px 1px rgba(0, 0, 0, 0.15);\n",
              "      filter: drop-shadow(0px 1px 2px rgba(0, 0, 0, 0.3));\n",
              "      fill: #FFFFFF;\n",
              "    }\n",
              "  </style>\n",
              "\n",
              "      <script>\n",
              "        const buttonEl =\n",
              "          document.querySelector('#df-44c5dcde-5bda-4866-8278-da1a3e3abd14 button.colab-df-convert');\n",
              "        buttonEl.style.display =\n",
              "          google.colab.kernel.accessAllowed ? 'block' : 'none';\n",
              "\n",
              "        async function convertToInteractive(key) {\n",
              "          const element = document.querySelector('#df-44c5dcde-5bda-4866-8278-da1a3e3abd14');\n",
              "          const dataTable =\n",
              "            await google.colab.kernel.invokeFunction('convertToInteractive',\n",
              "                                                     [key], {});\n",
              "          if (!dataTable) return;\n",
              "\n",
              "          const docLinkHtml = 'Like what you see? Visit the ' +\n",
              "            '<a target=\"_blank\" href=https://colab.research.google.com/notebooks/data_table.ipynb>data table notebook</a>'\n",
              "            + ' to learn more about interactive tables.';\n",
              "          element.innerHTML = '';\n",
              "          dataTable['output_type'] = 'display_data';\n",
              "          await google.colab.output.renderOutput(dataTable, element);\n",
              "          const docLink = document.createElement('div');\n",
              "          docLink.innerHTML = docLinkHtml;\n",
              "          element.appendChild(docLink);\n",
              "        }\n",
              "      </script>\n",
              "    </div>\n",
              "  </div>\n",
              "  "
            ]
          },
          "metadata": {},
          "execution_count": 93
        }
      ]
    },
    {
      "cell_type": "code",
      "source": [
        "plt.figure(figsize=(15,5))\n",
        "plt.subplot(131)\n",
        "plt.hist(data=pokemon,x=\"Speed\")\n",
        "\n",
        "plt.subplot(132)\n",
        "log_wt = np.log10(pokemon[\"Speed\"])\n",
        "min = log_wt.min()\n",
        "max = log_wt.max()\n",
        "bin_edges = np.arange(min,max+0.1,0.1)\n",
        "plt.hist(log_wt,bins=bin_edges)\n",
        "tick_loc = [-1,0,1,2,3]\n",
        "tick_labels = [10**x for x in tick_loc]\n",
        "plt.xticks(tick_loc,tick_labels);\n",
        "\n",
        "plt.subplot(133)\n",
        "bin_edges = 10** np.arange(min,max+0.1,0.1)\n",
        "plt.hist(data=pokemon,x=\"Speed\",bins=bin_edges)\n",
        "plt.xscale(\"log\")\n",
        "ticks = [0.1,0.3,1,3,10,30,100,300,1000]\n",
        "plt.xticks(ticks,ticks);"
      ],
      "metadata": {
        "id": "CrHqOWTnVZFx",
        "colab": {
          "base_uri": "https://localhost:8080/",
          "height": 320
        },
        "outputId": "098a0839-7d2f-4b9e-bf48-ae740031cb60"
      },
      "execution_count": 99,
      "outputs": [
        {
          "output_type": "display_data",
          "data": {
            "text/plain": [
              "<Figure size 1080x360 with 3 Axes>"
            ],
            "image/png": "[encoded data removed]"
          },
          "metadata": {
            "needs_background": "light"
          }
        }
      ]
    },
    {
      "cell_type": "markdown",
      "source": [
        "One common distribution that results from the logarithmic distribution is the log-normal distribution.\n",
        "\n",
        "Log-Normal distribution: it is data that, in their natural units, can look highly skewed: lots of points with low values, with a very long tail of data points with large values. However, after applying a logarithmic transform to the data, the data will follow a normal distribution.\n",
        "\n",
        "Under this distribution, linear changes in predictor features will result in multiplicative effects in the response.\n",
        "\n",
        "Axis Transformations are useful because they allow you to interpret your data with their naturally recordedd units.\n",
        "\n",
        "In a scale transformation, the gaps between values are based on the transformed scale, but you can interpret them in the variable's natural units."
      ],
      "metadata": {
        "id": "iiYHqPNYAi8W"
      }
    },
    {
      "cell_type": "markdown",
      "source": [
        "**Additional Variation**\n",
        "\n",
        "If you want to use a different transformation that is not available in xscale, then you'll have to perform some feature engineering.\n",
        "\n",
        "\n",
        "You will need to write a function that applies both the transformation and its inverse.\n",
        "\n",
        "\n",
        "The inverse will be useful in cases where we specify values in their transformed units and need to get the natural units back."
      ],
      "metadata": {
        "id": "JSAYufsOgJhY"
      }
    },
    {
      "cell_type": "markdown",
      "source": [
        "Applying the log transfrmation using a function instead"
      ],
      "metadata": {
        "id": "NhP5Y_k5hada"
      }
    },
    {
      "cell_type": "code",
      "source": [
        "def log_trasform(x,inverse=False):\n",
        "  if not inverse:\n",
        "    return np.log10(x)\n",
        "  else:\n",
        "      return 10**x"
      ],
      "metadata": {
        "id": "ssi3K-Apd-4a"
      },
      "execution_count": 101,
      "outputs": []
    },
    {
      "cell_type": "code",
      "source": [
        "min = log_trasform(pokemon['Speed'].min())\n",
        "max = log_trasform(pokemon[\"Speed\"].max())"
      ],
      "metadata": {
        "id": "GvPakp6fd-0s"
      },
      "execution_count": 103,
      "outputs": []
    },
    {
      "cell_type": "code",
      "source": [
        "bin_edges = np.arange(min,max+0.1,0.1)\n",
        "plt.hist(log_trasform(pokemon[\"Speed\"]),bins=bin_edges)\n",
        "tick_loc = [-1,0,1,2,3]\n",
        "plt.xticks(tick_loc,[log_trasform(i,inverse=True) for i in tick_loc]);"
      ],
      "metadata": {
        "colab": {
          "base_uri": "https://localhost:8080/",
          "height": 265
        },
        "id": "gf33NXRcd-xc",
        "outputId": "edb1246e-b4a7-4720-8df2-f5e7d6636cbb"
      },
      "execution_count": 107,
      "outputs": [
        {
          "output_type": "display_data",
          "data": {
            "text/plain": [
              "<Figure size 432x288 with 1 Axes>"
            ],
            "image/png": "[encoded data removed]"
          },
          "metadata": {
            "needs_background": "light"
          }
        }
      ]
    },
    {
      "cell_type": "code",
      "source": [
        "areas = np.abs(50 * np.random.randn(200) + 100)"
      ],
      "metadata": {
        "id": "PHWr_Xq6d-ug"
      },
      "execution_count": 108,
      "outputs": []
    },
    {
      "cell_type": "code",
      "source": [
        "adds = [300, 350, 400, 425, 800, 900, 1000, 1100, 980, 755,357,880,987,863,430,340,1050,1000,900,600,700,600]\n",
        "areas = pd.Series(np.append(areas, adds))"
      ],
      "metadata": {
        "id": "R-VVSriXd-cx"
      },
      "execution_count": 109,
      "outputs": []
    },
    {
      "cell_type": "code",
      "source": [
        "plt.hist(areas);"
      ],
      "metadata": {
        "colab": {
          "base_uri": "https://localhost:8080/",
          "height": 265
        },
        "id": "63SkZjCAd-Yh",
        "outputId": "e3e52766-fa7a-4bfd-c1df-19e511cc1af6"
      },
      "execution_count": 110,
      "outputs": [
        {
          "output_type": "display_data",
          "data": {
            "text/plain": [
              "<Figure size 432x288 with 1 Axes>"
            ],
            "image/png": "[encoded data removed]"
          },
          "metadata": {
            "needs_background": "light"
          }
        }
      ]
    },
    {
      "cell_type": "code",
      "source": [
        "plt.hist(areas)\n",
        "plt.xscale('log');"
      ],
      "metadata": {
        "colab": {
          "base_uri": "https://localhost:8080/",
          "height": 269
        },
        "id": "it_QUBKod9s6",
        "outputId": "bba3b6c1-04b4-48db-d470-9160a2a39d28"
      },
      "execution_count": 111,
      "outputs": [
        {
          "output_type": "display_data",
          "data": {
            "text/plain": [
              "<Figure size 432x288 with 1 Axes>"
            ],
            "image/png": "[encoded data removed]"
          },
          "metadata": {
            "needs_background": "light"
          }
        }
      ]
    },
    {
      "cell_type": "markdown",
      "source": [
        "logarithmic scale"
      ],
      "metadata": {
        "id": "DzaQzpuxpoO9"
      }
    },
    {
      "cell_type": "code",
      "source": [
        "mi = np.log10(areas.describe())['min']\n",
        "ma = np.log10(areas.describe())['max']\n",
        "bin_edges = 10 ** np.arange(mi, ma + 0.1, 0.1)\n",
        "plt.hist(areas, bins = bin_edges)\n",
        "plt.xscale('log')\n",
        "ticks = [1, 3, 10, 30, 100, 300, 1000]\n",
        "plt.xticks(ticks, ticks);"
      ],
      "metadata": {
        "colab": {
          "base_uri": "https://localhost:8080/",
          "height": 265
        },
        "id": "dZi--cu_d9pT",
        "outputId": "32dfdb93-7820-4596-a27e-bfcd65ca1d96"
      },
      "execution_count": 112,
      "outputs": [
        {
          "output_type": "display_data",
          "data": {
            "text/plain": [
              "<Figure size 432x288 with 1 Axes>"
            ],
            "image/png": "[encoded data removed]"
          },
          "metadata": {
            "needs_background": "light"
          }
        }
      ]
    },
    {
      "cell_type": "code",
      "source": [
        "def sqrt_trans(data, inverse = False):\n",
        "    if not inverse:\n",
        "        return np.sqrt(data)\n",
        "    else:\n",
        "        return data ** 2"
      ],
      "metadata": {
        "id": "M0mxtCPsd9kb"
      },
      "execution_count": 113,
      "outputs": []
    },
    {
      "cell_type": "code",
      "source": [
        "bin_edges = np.arange(0, sqrt_trans(areas.max()) + 1, 1)\n",
        "plt.hist(areas.map(sqrt_trans), bins = bin_edges)\n",
        "ticks = np.arange(0, sqrt_trans(areas.max()) + 10, 10)\n",
        "plt.xticks(ticks, sqrt_trans(ticks, inverse = True));"
      ],
      "metadata": {
        "colab": {
          "base_uri": "https://localhost:8080/",
          "height": 265
        },
        "id": "6B1YeyfZd9hQ",
        "outputId": "de2b220a-df76-41f8-cc1e-f57abe121e1d"
      },
      "execution_count": 114,
      "outputs": [
        {
          "output_type": "display_data",
          "data": {
            "text/plain": [
              "<Figure size 432x288 with 1 Axes>"
            ],
            "image/png": "[encoded data removed]"
          },
          "metadata": {
            "needs_background": "light"
          }
        }
      ]
    }
  ]
}